{
 "cells": [
  {
   "cell_type": "markdown",
   "metadata": {},
   "source": [
    "# Locally Weighted Regression\n",
    "\n",
    "## Implement the non-parametric Locally Weighted Regressionlgorithm in order to fit data points. Select appropriate data set for your experiment and draw graphs."
   ]
  },
  {
   "cell_type": "code",
   "execution_count": 2,
   "metadata": {},
   "outputs": [],
   "source": [
    "from math import ceil\n",
    "import math\n",
    "import numpy as np\n",
    "from scipy import linalg"
   ]
  },
  {
   "cell_type": "code",
   "execution_count": 3,
   "metadata": {},
   "outputs": [],
   "source": [
    "def lowess(x, y, f, iterations):\n",
    "    n = len(x)\n",
    "    r = int(ceil(f * n))\n",
    "    h = [np.sort(np.abs(x - x[i]))[r] for i in range(n)]\n",
    "    w = np.clip(np.abs((x[:, None] - x[None, :]) / h), 0.0, 1.0)\n",
    "    w = (1 - w**3)**3\n",
    "    y_estimate = np.zeros(n)\n",
    "    delta = np.ones(n)\n",
    "    for iteration in range(iterations):\n",
    "        for i in range(n):\n",
    "            weights = delta * w[:, i]\n",
    "            b = np.array([np.sum(weights * y), np.sum(weights * y * x)])\n",
    "            A = np.array([[np.sum(weights),np.sum(weights * x)],[np.sum(weights * x),np.sum(weights * x * x)]])\n",
    "            beta = linalg.solve(A, b)\n",
    "            y_estimate[i] = beta[0] + beta[1] * x[i]\n",
    "    \n",
    "        residuals = y - y_estimate\n",
    "        s = np.median(np.abs(residuals))\n",
    "        delta = np.clip(residuals / (6.0 * s), -1, 1)\n",
    "        delta = (1 - delta**2)**2\n",
    "    return y_estimate"
   ]
  },
  {
   "cell_type": "code",
   "execution_count": 11,
   "metadata": {},
   "outputs": [
    {
     "data": {
      "text/plain": [
       "[<matplotlib.lines.Line2D at 0x7fd2e8561280>]"
      ]
     },
     "execution_count": 11,
     "metadata": {},
     "output_type": "execute_result"
    },
    {
     "data": {
      "image/png": "[encoded data removed]",
      "text/plain": [
       "<Figure size 432x288 with 1 Axes>"
      ]
     },
     "metadata": {
      "needs_background": "light"
     },
     "output_type": "display_data"
    }
   ],
   "source": [
    "import math\n",
    "n = 100\n",
    "x = np.linspace(0, 2 * math.pi, n)\n",
    "y = np.sin(x) + 0.3 * np.random.randn(n)\n",
    "f = 0.25\n",
    "iterations = 3\n",
    "y_estimate = lowess(x, y, f, iterations)\n",
    "\n",
    "\n",
    "import matplotlib.pyplot as plt\n",
    "plt.plot(x, y, \"r.\")\n",
    "plt.plot(x, y_estimate, \"b-\")"
   ]
  },
  {
   "cell_type": "code",
   "execution_count": 5,
   "metadata": {},
   "outputs": [],
   "source": [
    "# from numpy import *\n",
    "# from os import listdir\n",
    "# import matplotlib\n",
    "# import matplotlib.pyplot as plt\n",
    "# import pandas as pd\n",
    "# import numpy as np1\n",
    "# import numpy.linalg as np\n",
    "# from scipy.stats.stats import pearsonr\n",
    " \n",
    "# def kernel(point,xmat, k):\n",
    "#     m,n = np1.shape(xmat)\n",
    "#     weights = np1.mat(np1.eye((m)))\n",
    "#     for j in range(m):\n",
    "#         diff = point - X[j]\n",
    "#         weights[j,j] = np1.exp(diff*diff.T/(-2.0*k**2))\n",
    "#     return weights\n",
    " \n",
    "# def localWeight(point,xmat,ymat,k):\n",
    "#     wei = kernel(point,xmat,k)\n",
    "#     W = (X.T*(wei*X)).I*(X.T*(wei*ymat.T))\n",
    "#     return W\n",
    "     \n",
    "# def localWeightRegression(xmat,ymat,k):\n",
    "#     m,n = np1.shape(xmat)\n",
    "#     ypred = np1.zeros(m)\n",
    "#     for i in range(m):\n",
    "#         ypred[i] = xmat[i]*localWeight(xmat[i],xmat,ymat,k)\n",
    "#     return ypred\n",
    "       \n",
    "# # load data points\n",
    "# data = pd.read_csv('tips.csv')\n",
    "# bill = np1.array(data.total_bill)\n",
    "# tip = np1.array(data.tip)\n",
    " \n",
    "# #preparing and add 1 in bill\n",
    "# mbill = np1.mat(bill)\n",
    "# mtip = np1.mat(tip) # mat is used to convert to n dimesiona to 2 dimensional array form\n",
    "# m= np1.shape(mbill)[1]\n",
    "# # print(m) 244 data is stored in m\n",
    "# one = np1.mat(np1.ones(m)) \n",
    "# X= np1.hstack((one.T,mbill.T)) # create a stack of bill from ONE\n",
    "# #print(X)\n",
    "# #set k here\n",
    "# ypred = localWeightRegression(X,mtip,0.3) \n",
    "# SortIndex = X[:,1].argsort(0)\n",
    "# xsort = X[SortIndex][:,0]\n",
    "     \n",
    "# fig = plt.figure()\n",
    "# ax = fig.add_subplot(1,1,1)\n",
    "# ax.scatter(bill,tip, color='green')\n",
    "# ax.plot(xsort[:,1],ypred[SortIndex], color = 'red', linewidth=5)\n",
    "# plt.xlabel('Total bill')\n",
    "# plt.ylabel('Tip')\n",
    "# plt.show();"
   ]
  },
  {
   "cell_type": "code",
   "execution_count": 6,
   "metadata": {},
   "outputs": [],
   "source": [
    "# import numpy as np\n",
    "# from bokeh.plotting import figure, show, output_notebook\n",
    "# from bokeh.layouts import gridplot\n",
    "# from bokeh.io import push_notebook\n",
    "\n",
    "# def local_regression(x0, X, Y, tau):\n",
    "#     # add bias term\n",
    "#      x0 = np.r_[1, x0] # Add one to avoid the loss in information\n",
    "#      X = np.c_[np.ones(len(X)), X]\n",
    "\n",
    "#  # fit model: normal equations with kernel\n",
    "#  xw = X.T * radial_kernel(x0, X, tau) # XTranspose * W\n",
    "\n",
    "#  beta = np.linalg.pinv(xw @ X) @ xw @ Y #@ Matrix Multiplication or Dot Product\n",
    "\n",
    "\n",
    "#  # predict value\n",
    "#  return x0 @ beta # @ Matrix Multiplication or Dot Product for prediction\n",
    "# def radial_kernel(x0, X, tau):\n",
    "#  return np.exp(np.sum((X - x0) ** 2, axis=1) / (-2 * tau * tau))\n",
    "# # Weight or Radial Kernal Bias Function\n",
    "\n",
    "# n = 1000\n",
    "# # generate dataset\n",
    "# X = np.linspace(-3, 3, num=n)\n",
    "# print(\"The Data Set ( 10 Samples) X :\\n\",X[1:10])\n",
    "# Y = np.log(np.abs(X ** 2 - 1) + .5)\n",
    "# print(\"The Fitting Curve Data Set (10 Samples) Y :\\n\",Y[1:10])\n",
    "# # jitter X\n",
    "# X += np.random.normal(scale=.1, size=n)\n",
    "# print(\"Normalised (10 Samples) X :\\n\",X[1:10])\n",
    "\n",
    "# domain = np.linspace(-3, 3, num=300)\n",
    "# print(\" Xo Domain Space(10 Samples) :\\n\",domain[1:10])\n",
    "# def plot_lwr(tau):\n",
    "#  # prediction through regression\n",
    "#  prediction = [local_regression(x0, X, Y, tau) for x0 in domain]\n",
    "#  plot = figure(plot_width=400, plot_height=400)\n",
    "#  plot.title.text='tau=%g' % tau\n",
    "#  plot.scatter(X, Y, alpha=.3)\n",
    "#  plot.line(domain, prediction, line_width=2, color='red')\n",
    "#  return plot\n",
    "\n",
    "# show(gridplot([\n",
    "#  [plot_lwr(10.), plot_lwr(1.)],\n",
    "#  [plot_lwr(0.1), plot_lwr(0.01)]]))"
   ]
  },
  {
   "cell_type": "code",
   "execution_count": null,
   "metadata": {},
   "outputs": [],
   "source": []
  },
  {
   "cell_type": "code",
   "execution_count": null,
   "metadata": {},
   "outputs": [],
   "source": []
  }
 ],
 "metadata": {
  "kernelspec": {
   "display_name": "Python 3",
   "language": "python",
   "name": "python3"
  },
  "language_info": {
   "codemirror_mode": {
    "name": "ipython",
    "version": 3
   },
   "file_extension": ".py",
   "mimetype": "text/x-python",
   "name": "python",
   "nbconvert_exporter": "python",
   "pygments_lexer": "ipython3",
   "version": "3.8.3"
  }
 },
 "nbformat": 4,
 "nbformat_minor": 4
}
