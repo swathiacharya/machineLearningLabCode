{
 "cells": [
  {
   "cell_type": "code",
   "execution_count": null,
   "metadata": {},
   "outputs": [],
   "source": [
    "import csv"
   ]
  },
  {
   "cell_type": "code",
   "execution_count": null,
   "metadata": {},
   "outputs": [],
   "source": [
    "# initialization\n",
    "\n",
    "t = 0.55\n",
    "n = 0.1\n",
    "\n",
    "w0 = 0.3\n",
    "w1 = 0.1\n",
    "w2 = 0.2\n",
    "w3 = 0.1\n",
    "\n",
    "x0 = 1\n",
    "# x1 = 0.0\n",
    "# x2 = 0.0\n",
    "# x3 = 0.0\n",
    "y = 0.0\n",
    "sop = 0.0\n",
    "it = 0"
   ]
  },
  {
   "cell_type": "code",
   "execution_count": null,
   "metadata": {},
   "outputs": [],
   "source": [
    "def update(x1, x2, x3, y, o):\n",
    "    \n",
    "    global w0, w1, w2, w3, n, x0, t, it\n",
    "    print('\\t\\t Before updating weight Value w0, w1, w2, w3  ', w0, w1, w2, w3)\n",
    "    dw0 = 0\n",
    "    dw1 = 0\n",
    "    dw2 = 0\n",
    "    \n",
    "    dw0 = n *(t - o) * x0\n",
    "    dw1 = n *(t - o) * x1\n",
    "    dw2 = n *(t - o) * x2\n",
    "    dw3 = n *(t - o) * x3 \n",
    "    \n",
    "    w0 = w0 + dw0\n",
    "    w1 = w1 + dw1\n",
    "    w2 = w2 + dw2\n",
    "    w3 = w3 + dw3\n",
    "    \n",
    "    print('\\t\\t After updating weight Value w0, w1, w2, w3  ', w0, w1, w2, w3,'\\n\\n')\n",
    "    "
   ]
  },
  {
   "cell_type": "code",
   "execution_count": null,
   "metadata": {},
   "outputs": [],
   "source": [
    "def iteration(x1, x2, x3, y):\n",
    "    \n",
    "    global w0, w1, w2, w3, n, x0, t, it\n",
    "    while 1:\n",
    "        it = it + 1\n",
    "        y1 = 0\n",
    "\n",
    "    #     1] step function\n",
    "        sop = (x0 * w0) + (x1 * w1) + (x2 * w2) + (x3 * w3)\n",
    "        print('\\n ITERATION', it, '] ', 'w0=', w0, ' w1=', w0, '  w2=', w2, '  w3=', w3,)\n",
    "        print('\\t1](', x0, '*',  w0, ') + (', x1, '*', w1, ') + (', x2, '*', w2, ') + (', x3, '*', w3,') =', sop )\n",
    "\n",
    "\n",
    "    #   2]  condition to check\n",
    "        if sop<t:\n",
    "            print('\\t2]', sop, '<', t)\n",
    "            print('\\t   |--> y1 = 0')\n",
    "            y1 = 0\n",
    "        else:\n",
    "            y1 = 1\n",
    "            print('\\t2]', sop, '>=', t)\n",
    "            print('\\t   |--> y1 = 1')\n",
    "\n",
    "\n",
    "    #     3] check y1 value with real output y value\n",
    "    #     if y1 == y:\n",
    "    #         print('\\t3] GoTo next row')\n",
    "    #         return False\n",
    "\n",
    "\n",
    "        if y1!= y:\n",
    "            print('\\t3] y1 y ',y1, y)\n",
    "            print('\\t  updating ...')\n",
    "            update(x1, x2, x3, y, sop)\n",
    "            \n",
    "        else:\n",
    "            print('\\t3] GoTo next row')\n",
    "            print('\\n Row', count,'=[', x0, x1, x2, x3,'] weight value ', w0, w1, w2, w3,'\\n\\n')\n",
    "            break\n",
    "    #         break\n",
    "            \n",
    "\n",
    "    \n",
    "    \n",
    "    "
   ]
  },
  {
   "cell_type": "code",
   "execution_count": null,
   "metadata": {},
   "outputs": [],
   "source": [
    "with open('orLogic.csv', 'r') as reab_obj:\n",
    "    count = 0 \n",
    "    data = DictReader(reab_obj)\n",
    "    global w0, w1, w2, w3, n, x0, t, it\n",
    "    for row in data:\n",
    "        count = count + 1\n",
    "        print('\\n',\"*\"*20, \" row = \", count, \" \", \"*\"*20,\"\\n\")\n",
    "        x1 = int(row['x1'])\n",
    "        x2 = int(row['x2'])\n",
    "        x3 = int(row['x3'])\n",
    "        y = int(row['y'])\n",
    "        print('x1=>', x1,'   x2=>', x2, '   x3=>', x3, '   y=>', y)\n",
    "        iteration(x1, x2, x3, y)\n",
    "        \n",
    "        \n",
    "print('\\n\\n',\"--\"*15,'final weight value ',\"--\"*15,'\\n\\n')\n",
    "print('\\tt =', t)\n",
    "print('\\tn =', n)\n",
    "print('\\tw0 =',w0)\n",
    "print('\\tw1 =',w1)\n",
    "print('\\tw2 =',w2)\n",
    "print('\\tw3 =',w3)\n",
    "\n",
    "        \n",
    "        "
   ]
  },
  {
   "cell_type": "code",
   "execution_count": null,
   "metadata": {},
   "outputs": [],
   "source": []
  },
  {
   "cell_type": "code",
   "execution_count": null,
   "metadata": {},
   "outputs": [],
   "source": []
  },
  {
   "cell_type": "code",
   "execution_count": null,
   "metadata": {},
   "outputs": [],
   "source": []
  }
 ],
 "metadata": {
  "kernelspec": {
   "display_name": "Python 3",
   "language": "python",
   "name": "python3"
  },
  "language_info": {
   "codemirror_mode": {
    "name": "ipython",
    "version": 3
   },
   "file_extension": ".py",
   "mimetype": "text/x-python",
   "name": "python",
   "nbconvert_exporter": "python",
   "pygments_lexer": "ipython3",
   "version": "3.8.3"
  }
 },
 "nbformat": 4,
 "nbformat_minor": 4
}
