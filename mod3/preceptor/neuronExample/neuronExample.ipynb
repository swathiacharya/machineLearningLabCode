{
 "cells": [
  {
   "cell_type": "code",
   "execution_count": null,
   "metadata": {},
   "outputs": [],
   "source": []
  },
  {
   "cell_type": "code",
   "execution_count": 13,
   "metadata": {},
   "outputs": [
    {
     "name": "stdout",
     "output_type": "stream",
     "text": [
      "2 2 4\n",
      "linear equation value X 4.4  Y' value  0.9878715650157257\n",
      "Break\n",
      "3 2 9\n",
      "linear equation value X 5.35  Y' value  0.9952742873976046\n",
      "Break\n",
      "4 2 16\n",
      "linear equation value X 6.300000000000001  Y' value  0.9981670610575072\n",
      "Break\n",
      "2 3 8\n",
      "linear equation value X 5.2  Y' value  0.9945137011005495\n",
      "Break\n",
      "weight value \n",
      " 0.9 0.95 0.8\n"
     ]
    }
   ],
   "source": [
    "# Initialising random value\n",
    "\n",
    "n = 0.01\n",
    "w0 = 0.9\n",
    "w1 = 0.95\n",
    "w2 = 0.8\n",
    "x0 = 1\n",
    "op = 0.0\n",
    "e = 2.718\n",
    "\n",
    "\n",
    "def UpdateWeight(x1, x2, y, X):\n",
    "    global w0, w1, w2, x0, e, n\n",
    "    \n",
    "    dw0 = n *(X - y) * x0\n",
    "    dw1 = n *(X - y) * x1\n",
    "    dw2 = n *(X - y) * x2\n",
    "    \n",
    "    w0 = w0 + dw0\n",
    "    w1 = w1 + dw1\n",
    "    w2 = w2 + dw2\n",
    "    print(w0, w1, w2)\n",
    "#     iteration(x1, x2, y)\n",
    "\n",
    "\n",
    "def iteration(x1, x2, y):\n",
    "    global w0, w1, w2, x0, op, e\n",
    "    while 1:\n",
    "        print(x1, x2, y)\n",
    "        X = (x0*w0) + (x1*w1) + (x2*w2)\n",
    "        yVal = 1/(1 + (math.exp(-X)))\n",
    "        \n",
    "        print('linear equation value X', X, ' Y\\' value ', yVal)\n",
    "        \n",
    "        if yVal>=0.5:\n",
    "            print('Break')\n",
    "            break\n",
    "        else:\n",
    "            UpdateWeight(x1, x2, y, yVal)\n",
    "            \n",
    "            \n",
    "        \n",
    "        \n",
    "        \n",
    "\n",
    "\n",
    "import math\n",
    "\n",
    "from csv import DictReader\n",
    "with open('neuron.csv', 'r') as read_obj:\n",
    "    data = DictReader(read_obj)\n",
    "    for rowVal in data:\n",
    "        x1 = int(rowVal['x1'])\n",
    "        x2 = int(rowVal['x2'])\n",
    "        y = int(rowVal['y'])\n",
    "        iteration(x1, x2, y)\n",
    "print('weight value \\n',w0, w1, w2)\n",
    "        "
   ]
  },
  {
   "cell_type": "code",
   "execution_count": null,
   "metadata": {},
   "outputs": [],
   "source": []
  }
 ],
 "metadata": {
  "kernelspec": {
   "display_name": "Python 3",
   "language": "python",
   "name": "python3"
  },
  "language_info": {
   "codemirror_mode": {
    "name": "ipython",
    "version": 3
   },
   "file_extension": ".py",
   "mimetype": "text/x-python",
   "name": "python",
   "nbconvert_exporter": "python",
   "pygments_lexer": "ipython3",
   "version": "3.8.3"
  }
 },
 "nbformat": 4,
 "nbformat_minor": 4
}
