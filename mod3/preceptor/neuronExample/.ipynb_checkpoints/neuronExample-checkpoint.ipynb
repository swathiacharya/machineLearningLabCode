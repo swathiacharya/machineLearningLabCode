{
 "cells": [
  {
   "cell_type": "code",
   "execution_count": null,
   "metadata": {},
   "outputs": [],
   "source": []
  },
  {
   "cell_type": "code",
   "execution_count": 12,
   "metadata": {},
   "outputs": [
    {
     "name": "stdout",
     "output_type": "stream",
     "text": [
      "2 2 4\n",
      "-0.30000000000000004 -0.7000000000000001 -0.7000000000000001\n",
      "3 2 9\n",
      "-1.1 -3.1000000000000005 -2.3000000000000003\n",
      "4 2 16\n",
      "-2.6 -9.100000000000001 -5.300000000000001\n",
      "2 3 8\n",
      "-3.3000000000000003 -10.500000000000002 -7.4\n"
     ]
    }
   ],
   "source": [
    "# Initialising random value\n",
    "\n",
    "n = 0.1\n",
    "w0 = 0.1\n",
    "w1 = 0.1\n",
    "w2 = 0.1\n",
    "x0 = 1\n",
    "op = 0.0\n",
    "e = 2.718\n",
    "\n",
    "\n",
    "def UpdateWeight(x1, x2, y, yVal):\n",
    "    global w0, w1, w2, x0, e, n\n",
    "    \n",
    "    dw0 = n *(yVal - y) * x0\n",
    "    dw1 = n *(yVal - y) * x1\n",
    "    dw2 = n *(yVal - y) * x2\n",
    "    \n",
    "    w0 = w0 + dw0\n",
    "    w1 = w1 + dw1\n",
    "    w2 = w2 + dw2\n",
    "    print(w0, w1, w2)\n",
    "#     iteration(x1, x2, y)\n",
    "\n",
    "\n",
    "def iteration(x1, x2, y):\n",
    "    global w0, w1, w2, x0, op, e\n",
    "    print(x1, x2, y)\n",
    "    op = (x0*w0) + (x1*w1) + (x2*w2)\n",
    "    \n",
    "    yVal = 1/(1 + (e ** op))\n",
    "    \n",
    "    yRound = round(yVal)\n",
    "    if(yRound == y):\n",
    "        print('break')\n",
    "#         break\n",
    "    \n",
    "    else:\n",
    "        UpdateWeight(x1, x2, y, yRound)\n",
    "#         iteration(x1, x2, y)\n",
    "        return 0\n",
    "        \n",
    "#     while 1:\n",
    "#         print(x1, x2, y)\n",
    "#         op = (x0*w0) + (x1*w1) + (x2*w2)\n",
    "    \n",
    "#         yVal = 1/(1 + (e ** op))\n",
    "    \n",
    "#         yRound = round(yVal)\n",
    "    \n",
    "#         if(yRound == y):\n",
    "#             print('break')\n",
    "#             break\n",
    "    \n",
    "#         else:\n",
    "#             UpdateWeight(x1, x2, y, yRound)\n",
    "\n",
    "\n",
    "from csv import DictReader\n",
    "with open('neuron.csv', 'r') as read_obj:\n",
    "    data = DictReader(read_obj)\n",
    "    for rowVal in data:\n",
    "        x1 = int(rowVal['x1'])\n",
    "        x2 = int(rowVal['x2'])\n",
    "        y = int(rowVal['y'])\n",
    "        iteration(x1, x2, y)\n",
    "print(w0, w1, w2)\n",
    "        "
   ]
  },
  {
   "cell_type": "code",
   "execution_count": null,
   "metadata": {},
   "outputs": [],
   "source": []
  }
 ],
 "metadata": {
  "kernelspec": {
   "display_name": "Python 3",
   "language": "python",
   "name": "python3"
  },
  "language_info": {
   "codemirror_mode": {
    "name": "ipython",
    "version": 3
   },
   "file_extension": ".py",
   "mimetype": "text/x-python",
   "name": "python",
   "nbconvert_exporter": "python",
   "pygments_lexer": "ipython3",
   "version": "3.8.3"
  }
 },
 "nbformat": 4,
 "nbformat_minor": 4
}
