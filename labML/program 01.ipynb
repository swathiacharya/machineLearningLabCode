{
 "cells": [
  {
   "cell_type": "markdown",
   "metadata": {},
   "source": [
    "# Find S Algorithm\n",
    "\n",
    "## Implement and demonstrate the FIND-S algorithm for finding the most specific hypothesis based on a given set of training data samples. Read the training data from a .CSV file."
   ]
  },
  {
   "cell_type": "code",
   "execution_count": 22,
   "metadata": {},
   "outputs": [
    {
     "data": {
      "text/html": [
       "<div>\n",
       "<style scoped>\n",
       "    .dataframe tbody tr th:only-of-type {\n",
       "        vertical-align: middle;\n",
       "    }\n",
       "\n",
       "    .dataframe tbody tr th {\n",
       "        vertical-align: top;\n",
       "    }\n",
       "\n",
       "    .dataframe thead th {\n",
       "        text-align: right;\n",
       "    }\n",
       "</style>\n",
       "<table border=\"1\" class=\"dataframe\">\n",
       "  <thead>\n",
       "    <tr style=\"text-align: right;\">\n",
       "      <th></th>\n",
       "      <th>sunny</th>\n",
       "      <th>warm</th>\n",
       "      <th>normal</th>\n",
       "      <th>strong</th>\n",
       "      <th>warm.1</th>\n",
       "      <th>same</th>\n",
       "      <th>Yes</th>\n",
       "    </tr>\n",
       "  </thead>\n",
       "  <tbody>\n",
       "    <tr>\n",
       "      <th>0</th>\n",
       "      <td>sunny</td>\n",
       "      <td>warm</td>\n",
       "      <td>high</td>\n",
       "      <td>strong</td>\n",
       "      <td>warm</td>\n",
       "      <td>same</td>\n",
       "      <td>Yes</td>\n",
       "    </tr>\n",
       "    <tr>\n",
       "      <th>1</th>\n",
       "      <td>rainy</td>\n",
       "      <td>cold</td>\n",
       "      <td>high</td>\n",
       "      <td>strong</td>\n",
       "      <td>warm</td>\n",
       "      <td>change</td>\n",
       "      <td>No</td>\n",
       "    </tr>\n",
       "    <tr>\n",
       "      <th>2</th>\n",
       "      <td>sunny</td>\n",
       "      <td>warm</td>\n",
       "      <td>high</td>\n",
       "      <td>strong</td>\n",
       "      <td>cool</td>\n",
       "      <td>change</td>\n",
       "      <td>Yes</td>\n",
       "    </tr>\n",
       "  </tbody>\n",
       "</table>\n",
       "</div>"
      ],
      "text/plain": [
       "   sunny  warm normal  strong warm.1    same  Yes\n",
       "0  sunny  warm   high  strong   warm    same  Yes\n",
       "1  rainy  cold   high  strong   warm  change   No\n",
       "2  sunny  warm   high  strong   cool  change  Yes"
      ]
     },
     "execution_count": 22,
     "metadata": {},
     "output_type": "execute_result"
    }
   ],
   "source": [
    "import pandas as pd\n",
    "df = pd.read_csv('enjoy_sport.csv')\n",
    "# df = df.drop(['slno'], axis=1)\n",
    "column_length = df.shape[1]\n",
    "df.head()"
   ]
  },
  {
   "cell_type": "code",
   "execution_count": 23,
   "metadata": {},
   "outputs": [],
   "source": [
    "h = ['0'] * (column_length - 1)\n",
    "hp = []\n",
    "hn = []"
   ]
  },
  {
   "cell_type": "code",
   "execution_count": 24,
   "metadata": {},
   "outputs": [],
   "source": [
    "for training_example in df.values:\n",
    "    if training_example[-1] != 'no':\n",
    "        hp.append(list(training_example))\n",
    "    else:\n",
    "        hn.append(list(training_example))"
   ]
  },
  {
   "cell_type": "code",
   "execution_count": 25,
   "metadata": {},
   "outputs": [],
   "source": [
    "for i in range(len(hp)):\n",
    "    for j in range(column_length - 1):\n",
    "        if (h[j] == '0'):\n",
    "            h[j] = hp[i][j]\n",
    "        if (h[j] != hp[i][j]):\n",
    "            h[j] = '?'\n",
    "        else:\n",
    "            h[j] = hp[i][j]"
   ]
  },
  {
   "cell_type": "code",
   "execution_count": 26,
   "metadata": {},
   "outputs": [
    {
     "name": "stdout",
     "output_type": "stream",
     "text": [
      "Positive Hypotheses:\n",
      "[['sunny', 'warm', 'high', 'strong', 'warm', 'same', 'Yes'], ['rainy', 'cold', 'high', 'strong', 'warm', 'change', 'No'], ['sunny', 'warm', 'high', 'strong', 'cool', 'change', 'Yes']]\n",
      "Negative Hypotheses:\n",
      "[]\n",
      "Maximally Specific Hypothesis:\n",
      "['?', '?', 'high', 'strong', '?', '?']\n"
     ]
    }
   ],
   "source": [
    "print(f'Positive Hypotheses:\\n{hp}')\n",
    "\n",
    "print(f'Negative Hypotheses:\\n{hn}')\n",
    "print(f'Maximally Specific Hypothesis:\\n{h}')"
   ]
  },
  {
   "cell_type": "code",
   "execution_count": null,
   "metadata": {},
   "outputs": [],
   "source": []
  },
  {
   "cell_type": "code",
   "execution_count": null,
   "metadata": {},
   "outputs": [],
   "source": []
  },
  {
   "cell_type": "code",
   "execution_count": 39,
   "metadata": {},
   "outputs": [],
   "source": [
    "import random\n",
    "import csv\n"
   ]
  },
  {
   "cell_type": "code",
   "execution_count": 40,
   "metadata": {},
   "outputs": [],
   "source": [
    "def read_data(filename):\n",
    "    with open(filename, 'r') as csvfile:\n",
    "        datareader = csv.reader(csvfile, delimiter=',')\n",
    "        traindata = []\n",
    "        for row in datareader:\n",
    "            traindata.append(row)\n",
    "    return (traindata)\n"
   ]
  },
  {
   "cell_type": "code",
   "execution_count": 41,
   "metadata": {},
   "outputs": [],
   "source": [
    "    \n",
    "h=['0','0','0','0','0','0']\n",
    "data = read_data('enjoy_sport.csv')\n",
    "\n"
   ]
  },
  {
   "cell_type": "code",
   "execution_count": 42,
   "metadata": {},
   "outputs": [],
   "source": [
    "def isConsistent(h,d):\n",
    "    if len(h)!=len(d)-1:\n",
    "        print('Number of attributes are not same in hypothesis.')\n",
    "        return False\n",
    "    else:\n",
    "        matched=0\n",
    "        for i in range(len(h)):\n",
    "            if ( (h[i]==d[i]) | (h[i]=='?') ):\n",
    "                matched=matched+1\n",
    "            if matched==len(h):\n",
    "                return True\n",
    "            else:\n",
    "                return False"
   ]
  },
  {
   "cell_type": "code",
   "execution_count": 43,
   "metadata": {},
   "outputs": [],
   "source": [
    "def makeConsistent(h,d):\n",
    "    for i in range(len(h)):\n",
    "        if((h[i] == '(0)')):\n",
    "            h[i]=d[i]\n",
    "        elif(h[i]!=d[i]):\n",
    "            h[i]='?'\n",
    "    return h\n",
    "    "
   ]
  },
  {
   "cell_type": "code",
   "execution_count": 44,
   "metadata": {},
   "outputs": [
    {
     "name": "stdout",
     "output_type": "stream",
     "text": [
      "Begin : Hypothesis : ['0', '0', '0', '0', '0', '0']\n",
      "==========================================\n",
      "Training data: ['sunny', 'warm', 'normal', 'strong', 'warm', 'same', 'Yes']\n",
      "Updated Hypothesis : ['?', '?', '?', '?', '?', '?']\n",
      "\n",
      "--------------------------------\n",
      "Training data: ['sunny', 'warm', 'high', 'strong', 'warm', 'same', 'Yes']\n",
      "Updated Hypothesis : ['?', '?', '?', '?', '?', '?']\n",
      "\n",
      "--------------------------------\n",
      "Training data: ['rainy', 'cold', 'high', 'strong', 'warm', 'change', 'No']\n",
      "Updated Hypothesis : ['?', '?', '?', '?', '?', '?']\n",
      "\n",
      "--------------------------------\n",
      "Training data: ['sunny', 'warm', 'high', 'strong', 'cool', 'change', 'Yes']\n",
      "Updated Hypothesis : ['?', '?', '?', '?', '?', '?']\n",
      "\n",
      "--------------------------------\n",
      "======================================\n",
      "maximally sepcific data set End: Hypothesis : ['?', '?', '?', '?', '?', '?']\n"
     ]
    }
   ],
   "source": [
    "print('Begin : Hypothesis :',h)\n",
    "\n",
    "print('==========================================')\n",
    "for d in data:\n",
    "    if d[len(d)-1]=='Yes':\n",
    "        if ( isConsistent(h,d)):\n",
    "            pass\n",
    "        else:\n",
    "            h=makeConsistent(h,d)\n",
    "    print ('Training data:',d)\n",
    "    print ('Updated Hypothesis :',h)\n",
    "    print()\n",
    "    print('--------------------------------')\n",
    "print('======================================')\n",
    "print('maximally sepcific data set End: Hypothesis :',h)"
   ]
  },
  {
   "cell_type": "code",
   "execution_count": null,
   "metadata": {},
   "outputs": [],
   "source": []
  }
 ],
 "metadata": {
  "kernelspec": {
   "display_name": "Python 3",
   "language": "python",
   "name": "python3"
  },
  "language_info": {
   "codemirror_mode": {
    "name": "ipython",
    "version": 3
   },
   "file_extension": ".py",
   "mimetype": "text/x-python",
   "name": "python",
   "nbconvert_exporter": "python",
   "pygments_lexer": "ipython3",
   "version": "3.8.3"
  }
 },
 "nbformat": 4,
 "nbformat_minor": 4
}
