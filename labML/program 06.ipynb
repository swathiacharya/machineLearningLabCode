{
 "cells": [
  {
   "cell_type": "code",
   "execution_count": 6,
   "metadata": {},
   "outputs": [],
   "source": [
    "import pandas as pd\n",
    "import csv\n",
    "import numpy as np\n",
    "\n",
    "# from sklearn.navie_bayes import MultinomialNB\n",
    "from sklearn.naive_bayes import MultinomialNB\n",
    "from sklearn.feature_extraction.text import CountVectorizer\n",
    "from sklearn.model_selection import train_test_split\n",
    "from sklearn.metrics import (accuracy_score, confusion_matrix, precision_score, recall_score)\n",
    "\n",
    "\n"
   ]
  },
  {
   "cell_type": "code",
   "execution_count": 16,
   "metadata": {},
   "outputs": [
    {
     "name": "stdout",
     "output_type": "stream",
     "text": [
      "18\n"
     ]
    }
   ],
   "source": [
    "msg = pd.read_csv('document.csv',names=['message','label'])\n",
    "print(msg.shape[0])\n",
    "msg['labelnum'] = msg.label.map({'pos':1, 'neg':0})\n",
    "X = msg.message\n",
    "y = msg.labelnum"
   ]
  },
  {
   "cell_type": "code",
   "execution_count": 17,
   "metadata": {},
   "outputs": [],
   "source": [
    "X_train, X_test, y_train, y_test = train_test_split(X,y)\n",
    "count_v = CountVectorizer()\n",
    "X_train_dm = count_v.fit_transform(X_train)\n",
    "X_test_dm = count_v.transform(X_test)\n",
    "\n",
    "df = pd.DataFrame(X_train_dm.toarray(), columns = count_v.get_feature_names())"
   ]
  },
  {
   "cell_type": "code",
   "execution_count": 18,
   "metadata": {},
   "outputs": [
    {
     "name": "stdout",
     "output_type": "stream",
     "text": [
      "pos --> He is my sworn enemy\n",
      "pos --> I do not like the taste of this juice\n",
      "pos --> This is my best work\n",
      "neg --> I went to my enemy’s house today\n",
      "neg --> My boss is horrible\n",
      "0.6\n",
      "[[1 1]\n",
      " [1 2]]\n",
      "0.6666666666666666\n"
     ]
    }
   ],
   "source": [
    "clt = MultinomialNB()\n",
    "clt.fit(X_train_dm,y_train)\n",
    "pred = clt.predict(X_test_dm)\n",
    "\n",
    "for doc, p in zip(X_train,pred):\n",
    "    p ='pos' if p==1 else 'neg'\n",
    "    print(f\"{p} --> {doc}\")\n",
    "    \n",
    "print(accuracy_score(y_test,pred))\n",
    "print(confusion_matrix(y_test,pred))\n",
    "print(recall_score(y_test,pred))"
   ]
  },
  {
   "cell_type": "code",
   "execution_count": null,
   "metadata": {},
   "outputs": [],
   "source": []
  },
  {
   "cell_type": "code",
   "execution_count": null,
   "metadata": {},
   "outputs": [],
   "source": []
  }
 ],
 "metadata": {
  "kernelspec": {
   "display_name": "Python 3",
   "language": "python",
   "name": "python3"
  },
  "language_info": {
   "codemirror_mode": {
    "name": "ipython",
    "version": 3
   },
   "file_extension": ".py",
   "mimetype": "text/x-python",
   "name": "python",
   "nbconvert_exporter": "python",
   "pygments_lexer": "ipython3",
   "version": "3.8.3"
  }
 },
 "nbformat": 4,
 "nbformat_minor": 4
}
