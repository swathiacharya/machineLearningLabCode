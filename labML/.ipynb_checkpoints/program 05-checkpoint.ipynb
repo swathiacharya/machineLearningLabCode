{
 "cells": [
  {
   "cell_type": "code",
   "execution_count": 4,
   "metadata": {},
   "outputs": [],
   "source": [
    "import pandas as pd"
   ]
  },
  {
   "cell_type": "code",
   "execution_count": 5,
   "metadata": {},
   "outputs": [],
   "source": [
    "def probAttr(data, attr, val):\n",
    "    Total = data.shape[0]\n",
    "    cnt = len(data[data[attr] == val])\n",
    "    return cnt, cnt / Total"
   ]
  },
  {
   "cell_type": "code",
   "execution_count": 6,
   "metadata": {},
   "outputs": [],
   "source": [
    "def train(data, Attr, conceptVals, concept):\n",
    "    conceptProbs = {}\n",
    "    countConcept = {}\n",
    "    for cVal in conceptVals:\n",
    "        countConcept[cVal], conceptProbs[cVal] = probAttr(data, concept, cVal)\n",
    "    \n",
    "    AttrConcept = {}\n",
    "    probability_list = {}\n",
    "    for att in Attr:\n",
    "        probability_list[att] = {}\n",
    "        AttrConcept[att] = {}\n",
    "        for val in Attr[att]:\n",
    "            AttrConcept[att][val] = {}\n",
    "            a, probability_list[att][val] = probAttr(data, att, val)\n",
    "            for cVal in conceptVals:\n",
    "                dataTemp = data[data[att] == val]\n",
    "                AttrConcept[att][val][cVal] = len(dataTemp[dataTemp[concept] == cVal]) / countConcept[cVal]\n",
    "    print(f\"P(A) : {conceptProbs}\\n\")\n",
    "    print(f\"P(X/A) : {AttrConcept}\\n\")\n",
    "    print(f\"P(X) : {probability_list}\\n\")\n",
    "    return conceptProbs, AttrConcept, probability_list"
   ]
  },
  {
   "cell_type": "code",
   "execution_count": 7,
   "metadata": {},
   "outputs": [],
   "source": [
    "def test(examples, Attr, concept_list, conceptProbs, AttrConcept,probability_list):\n",
    "    misclassification_count = 0\n",
    "    Total = len(examples)\n",
    "    for ex in examples:\n",
    "        px = {}\n",
    "        for a in Attr:\n",
    "            for x in ex:\n",
    "                for c in concept_list:\n",
    "                    if x in AttrConcept[a]:\n",
    "                        if c not in px:\n",
    "                            px[c] = conceptProbs[c] * AttrConcept[a][x][c] /probability_list[a][x]\n",
    "                        else:\n",
    "                            px[c] = px[c] * AttrConcept[a][x][c] /probability_list[a][x]\n",
    "        print(px)\n",
    "        classification = max(px, key=px.get)\n",
    "        print(f\"Classification : {classification} Expected : {ex[-1]}\")\n",
    "        if (classification != ex[-1]):\n",
    "            misclassification_count += 1\n",
    "    misclassification_rate = misclassification_count * 100 / Total\n",
    "    accuracy = 100 - misclassification_rate\n",
    "    print(f\"Misclassification Count={misclassification_count}\")\n",
    "    print(f\"Misclassification Rate={misclassification_rate}%\")\n",
    "    print(f\"Accuracy={accuracy}%\")"
   ]
  },
  {
   "cell_type": "code",
   "execution_count": 9,
   "metadata": {},
   "outputs": [
    {
     "name": "stdout",
     "output_type": "stream",
     "text": [
      "Sunny: {'Overcast', 'Rain', 'Sunny'}\n",
      "Hot: {'Hot', 'Mild', 'Cool'}\n",
      "High: {'High', 'Normal'}\n",
      "Weak: {'Weak', 'Strong'}\n",
      "P(A) : {'Yes': 0.6923076923076923, 'No': 0.3076923076923077}\n",
      "\n",
      "P(X/A) : {'Sunny': {'Overcast': {'Yes': 0.4444444444444444, 'No': 0.0}, 'Rain': {'Yes': 0.3333333333333333, 'No': 0.5}, 'Sunny': {'Yes': 0.2222222222222222, 'No': 0.5}}, 'Hot': {'Hot': {'Yes': 0.2222222222222222, 'No': 0.25}, 'Mild': {'Yes': 0.4444444444444444, 'No': 0.5}, 'Cool': {'Yes': 0.3333333333333333, 'No': 0.25}}, 'High': {'High': {'Yes': 0.3333333333333333, 'No': 0.75}, 'Normal': {'Yes': 0.6666666666666666, 'No': 0.25}}, 'Weak': {'Weak': {'Yes': 0.6666666666666666, 'No': 0.25}, 'Strong': {'Yes': 0.3333333333333333, 'No': 0.75}}}\n",
      "\n",
      "P(X) : {'Sunny': {'Overcast': 0.3076923076923077, 'Rain': 0.38461538461538464, 'Sunny': 0.3076923076923077}, 'Hot': {'Hot': 0.23076923076923078, 'Mild': 0.46153846153846156, 'Cool': 0.3076923076923077}, 'High': {'High': 0.46153846153846156, 'Normal': 0.5384615384615384}, 'Weak': {'Weak': 0.5384615384615384, 'Strong': 0.46153846153846156}}\n",
      "\n",
      "{'Yes': 0.25114311842706893, 'No': 1.4303385416666665}\n",
      "Classification : No Expected : No\n",
      "{'Yes': 0.8610621203213793, 'No': 0.0}\n",
      "Classification : Yes Expected : Yes\n",
      "{'Yes': 0.5166372721928276, 'No': 0.3269345238095238}\n",
      "Classification : Yes Expected : Yes\n",
      "{'Yes': 0.9963718820861676, 'No': 0.07005739795918368}\n",
      "Classification : Yes Expected : Yes\n",
      "{'Yes': 0.5812169312169311, 'No': 0.2452008928571429}\n",
      "Classification : Yes Expected : No\n",
      "{'Yes': 0.9686948853615518, 'No': 0.0}\n",
      "Classification : Yes Expected : Yes\n",
      "{'Yes': 0.43053106016068965, 'No': 0.40866815476190477}\n",
      "Classification : Yes Expected : No\n",
      "{'Yes': 0.830309901738473, 'No': 0.0875717474489796}\n",
      "Classification : Yes Expected : Yes\n",
      "{'Yes': 0.8856638951877046, 'No': 0.09340986394557824}\n",
      "Classification : Yes Expected : Yes\n",
      "{'Yes': 0.43053106016068954, 'No': 0.4086681547619047}\n",
      "Classification : Yes Expected : Yes\n",
      "{'Yes': 0.5022862368541379, 'No': 0.0}\n",
      "Classification : Yes Expected : Yes\n",
      "{'Yes': 1.476106491979507, 'No': 0.0}\n",
      "Classification : Yes Expected : Yes\n",
      "{'Yes': 0.30137174211248274, 'No': 1.1442708333333331}\n",
      "Classification : No Expected : No\n",
      "Misclassification Count=2\n",
      "Misclassification Rate=15.384615384615385%\n",
      "Accuracy=84.61538461538461%\n"
     ]
    }
   ],
   "source": [
    "\n",
    "df = pd.read_csv('PlayTennis.csv')\n",
    "concept = str(list(df)[-1])\n",
    "concept_list = set(df[concept])\n",
    "Attr = {}\n",
    "\n",
    "for a in df.columns[:-1]:\n",
    "    Attr[a] = set(df[a])\n",
    "    print(f\"{a}: {Attr[a]}\")\n",
    "    \n",
    "conceptProbs, AttrConcept, probability_list = train(df, Attr, concept_list,concept)\n",
    "examples = pd.read_csv('PlayTennis.csv')\n",
    "test(examples.values, Attr, concept_list, conceptProbs, AttrConcept,probability_list)"
   ]
  },
  {
   "cell_type": "code",
   "execution_count": null,
   "metadata": {},
   "outputs": [],
   "source": []
  }
 ],
 "metadata": {
  "kernelspec": {
   "display_name": "Python 3",
   "language": "python",
   "name": "python3"
  },
  "language_info": {
   "codemirror_mode": {
    "name": "ipython",
    "version": 3
   },
   "file_extension": ".py",
   "mimetype": "text/x-python",
   "name": "python",
   "nbconvert_exporter": "python",
   "pygments_lexer": "ipython3",
   "version": "3.8.3"
  }
 },
 "nbformat": 4,
 "nbformat_minor": 4
}
