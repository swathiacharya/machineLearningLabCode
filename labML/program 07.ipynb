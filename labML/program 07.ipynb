{
 "cells": [
  {
   "cell_type": "code",
   "execution_count": 5,
   "metadata": {},
   "outputs": [],
   "source": [
    "import pandas as pd\n",
    "import numpy as np\n",
    "\n",
    "from pgmpy.models import BayesianModel\n",
    "from pgmpy.estimators import MaximumLikelihoodEstimator\n",
    "from pgmpy.inference import VariableElimination\n"
   ]
  },
  {
   "cell_type": "code",
   "execution_count": 6,
   "metadata": {},
   "outputs": [],
   "source": [
    "heartDisease = pd.read_csv('heart.csv')\n",
    "heartDisease = heartDisease.replace(\"?\",np.nan)"
   ]
  },
  {
   "cell_type": "code",
   "execution_count": 7,
   "metadata": {},
   "outputs": [
    {
     "name": "stdout",
     "output_type": "stream",
     "text": [
      "303\n",
      "age               int64\n",
      "sex               int64\n",
      "cp                int64\n",
      "trestbps          int64\n",
      "chol              int64\n",
      "fbs               int64\n",
      "restecg           int64\n",
      "thalach           int64\n",
      "exang             int64\n",
      "oldpeak         float64\n",
      "slope             int64\n",
      "ca               object\n",
      "thal             object\n",
      "heartdisease      int64\n",
      "dtype: object\n"
     ]
    }
   ],
   "source": [
    "print(heartDisease.shape[0])\n",
    "print(heartDisease.dtypes)"
   ]
  },
  {
   "cell_type": "code",
   "execution_count": 22,
   "metadata": {},
   "outputs": [
    {
     "name": "stderr",
     "output_type": "stream",
     "text": [
      "Finding Elimination Order: : 100%|██████████| 5/5 [00:00<00:00, 3566.59it/s]\n",
      "Eliminating: chol: 100%|██████████| 5/5 [00:00<00:00, 87.24it/s]\n",
      "Finding Elimination Order: : 100%|██████████| 5/5 [00:00<00:00, 3867.86it/s]\n",
      "Eliminating: chol: 100%|██████████| 5/5 [00:00<00:00, 179.37it/s]"
     ]
    },
    {
     "name": "stdout",
     "output_type": "stream",
     "text": [
      "+-----------------+---------------------+\n",
      "| heartdisease    |   phi(heartdisease) |\n",
      "+=================+=====================+\n",
      "| heartdisease(0) |              0.1012 |\n",
      "+-----------------+---------------------+\n",
      "| heartdisease(1) |              0.0000 |\n",
      "+-----------------+---------------------+\n",
      "| heartdisease(2) |              0.2392 |\n",
      "+-----------------+---------------------+\n",
      "| heartdisease(3) |              0.2015 |\n",
      "+-----------------+---------------------+\n",
      "| heartdisease(4) |              0.4581 |\n",
      "+-----------------+---------------------+\n",
      "+-----------------+---------------------+\n",
      "| heartdisease    |   phi(heartdisease) |\n",
      "+=================+=====================+\n",
      "| heartdisease(0) |              0.1012 |\n",
      "+-----------------+---------------------+\n",
      "| heartdisease(1) |              0.0000 |\n",
      "+-----------------+---------------------+\n",
      "| heartdisease(2) |              0.2392 |\n",
      "+-----------------+---------------------+\n",
      "| heartdisease(3) |              0.2015 |\n",
      "+-----------------+---------------------+\n",
      "| heartdisease(4) |              0.4581 |\n",
      "+-----------------+---------------------+\n",
      "+-----------------+---------------------+\n",
      "| heartdisease    |   phi(heartdisease) |\n",
      "+=================+=====================+\n",
      "| heartdisease(0) |              0.3610 |\n",
      "+-----------------+---------------------+\n",
      "| heartdisease(1) |              0.2159 |\n",
      "+-----------------+---------------------+\n",
      "| heartdisease(2) |              0.1373 |\n",
      "+-----------------+---------------------+\n",
      "| heartdisease(3) |              0.1537 |\n",
      "+-----------------+---------------------+\n",
      "| heartdisease(4) |              0.1321 |\n",
      "+-----------------+---------------------+\n"
     ]
    },
    {
     "name": "stderr",
     "output_type": "stream",
     "text": [
      "\n"
     ]
    }
   ],
   "source": [
    "# model = BayesianModel([('age','heartdisease'),('sex','heartdisease'),('exang','heartdisease'),('cp','heartdisease'),('heartdisease',\n",
    "# 'restecg'),('heartdisease','chol')])\n",
    "\n",
    "\n",
    "model = BayesianModel([ ('age','heartdisease'),('sex','heartdisease'),('exang','heartdisease'),('cp','heartdisease'),('heartdisease','restecg'),('heartdisease','chol')])\n",
    "                         \n",
    "                         \n",
    "model.fit(heartDisease, estimator=MaximumLikelihoodEstimator)\n",
    "HeartDiseasetest_infer = VariableElimination(model)\n",
    "\n",
    "# print('\\n 1.Probability of HeartDisease given evidence= restecg :1')\n",
    "# q1=HeartDiseasetest_infer.query(variables=['heartdisease'],evidence={'restecg':1})\n",
    "# print(q1)\n",
    "\n",
    "\n",
    "\n",
    "\n",
    "\n",
    "\n",
    "\n",
    "\n",
    "\n",
    "q1 = HeartDiseasetest_infer.query(variables=['heartdisease'],evidence ={'restecg':1})\n",
    "print(q1)\n",
    "q2 = hd_inference.query(variables=['heartdisease'],evidence = {'cp':2})\n",
    "print(q1)\n",
    "print(q2)\n",
    "                         "
   ]
  },
  {
   "cell_type": "code",
   "execution_count": null,
   "metadata": {},
   "outputs": [],
   "source": []
  },
  {
   "cell_type": "code",
   "execution_count": null,
   "metadata": {},
   "outputs": [],
   "source": []
  }
 ],
 "metadata": {
  "kernelspec": {
   "display_name": "Python 3",
   "language": "python",
   "name": "python3"
  },
  "language_info": {
   "codemirror_mode": {
    "name": "ipython",
    "version": 3
   },
   "file_extension": ".py",
   "mimetype": "text/x-python",
   "name": "python",
   "nbconvert_exporter": "python",
   "pygments_lexer": "ipython3",
   "version": "3.8.3"
  }
 },
 "nbformat": 4,
 "nbformat_minor": 4
}
