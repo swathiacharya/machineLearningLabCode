{
 "cells": [
  {
   "cell_type": "code",
   "execution_count": 46,
   "metadata": {},
   "outputs": [],
   "source": [
    "import pandas as pd\n",
    "import numpy as np\n"
   ]
  },
  {
   "cell_type": "code",
   "execution_count": 47,
   "metadata": {},
   "outputs": [],
   "source": [
    "dataset = pd.read_csv('PlayTennis.csv', names = ['outlook','temperature','humidity','wind','class'])"
   ]
  },
  {
   "cell_type": "code",
   "execution_count": 60,
   "metadata": {},
   "outputs": [],
   "source": [
    "def entropy(target_col):\n",
    "    elements, counts = np.unique(target_col, return_counts =True)\n",
    "    entropy = np.sum([(-counts[i]/np.sum(counts))*np.log2(counts[i]/np.sum(counts)) for i in range(len(elements))])\n",
    "#     entropy = np.sum([(-counts[i]/np.sum(counts))*np.log2(counts[i]/np.sum(counts)) for i in range(len(elements))])\n",
    "    return entropy"
   ]
  },
  {
   "cell_type": "code",
   "execution_count": 61,
   "metadata": {},
   "outputs": [],
   "source": [
    "def infoGain(data,split_target, target_name='class'):\n",
    "    total_entropy = entropy(data[target_name])\n",
    "    val, counts = np.unique(data[split_target], return_counts = True)\n",
    "    weighted_entropy = np.sum([(counts[i]/np.sum(counts))*entropy(data.where(data[split_target]==val[i]).dropna()[target_name])for i in range(len(val))])\n",
    "    informationGain = total_entropy - weighted_entropy\n",
    "    return informationGain"
   ]
  },
  {
   "cell_type": "code",
   "execution_count": 62,
   "metadata": {},
   "outputs": [],
   "source": [
    "def ID3(data, originaldata, features, target_name = 'class', parent_node_class = None):\n",
    "    if len(np.unique(data[target_name]))<=1:\n",
    "        return np.unique(data[target_name])[0]\n",
    "    elif len(data)==0:\n",
    "        return np.unique(originaldata[target_name])[np.argmax(np.unique(originaldata[target_name],return_counts = True)[1])]\n",
    "    elif len(features) == 0:\n",
    "        return parent_node_class\n",
    "\n",
    "    else:\n",
    "        parent_node_class = np.unique(data[target_name])[np.argmax(np.unique(data[target_name],return_counts=True)[1])]\n",
    "    items = [infoGain(data,feature,target_name) for feature in features]\n",
    "    best_feature_index = np.argmax(items)\n",
    "    best_feature = features[best_feature_index]\n",
    "    tree = {best_feature : {}}\n",
    "    features = [i for i in features if i != best_feature]\n",
    "    \n",
    "    for value in np.unique(data[best_feature]):\n",
    "        value = value\n",
    "        subData = data.where(data[best_feature] == value).dropna()\n",
    "        subTree = ID3(subData, dataset, features, target_name,parent_node_class)\n",
    "        tree[best_feature][value] = subTree\n",
    "    return tree\n",
    "    "
   ]
  },
  {
   "cell_type": "code",
   "execution_count": 63,
   "metadata": {},
   "outputs": [
    {
     "name": "stdout",
     "output_type": "stream",
     "text": [
      "{'outlook': {'Overcast': 'Yes', 'Rain': {'wind': {'Strong': 'No', 'Weak': 'Yes'}}, 'Sunny': {'humidity': {'High': 'No', 'Normal': 'Yes'}}}}\n"
     ]
    }
   ],
   "source": [
    "tree = ID3(dataset, dataset, dataset.columns[:-1])\n",
    "print(tree)"
   ]
  },
  {
   "cell_type": "code",
   "execution_count": null,
   "metadata": {},
   "outputs": [],
   "source": []
  },
  {
   "cell_type": "code",
   "execution_count": null,
   "metadata": {},
   "outputs": [],
   "source": []
  }
 ],
 "metadata": {
  "kernelspec": {
   "display_name": "Python 3",
   "language": "python",
   "name": "python3"
  },
  "language_info": {
   "codemirror_mode": {
    "name": "ipython",
    "version": 3
   },
   "file_extension": ".py",
   "mimetype": "text/x-python",
   "name": "python",
   "nbconvert_exporter": "python",
   "pygments_lexer": "ipython3",
   "version": "3.8.3"
  }
 },
 "nbformat": 4,
 "nbformat_minor": 4
}
