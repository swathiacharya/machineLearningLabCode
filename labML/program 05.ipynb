{
 "cells": [
  {
   "cell_type": "code",
   "execution_count": 44,
   "metadata": {},
   "outputs": [],
   "source": [
    "import pandas as pd\n",
    "import numpy as np\n"
   ]
  },
  {
   "cell_type": "code",
   "execution_count": 45,
   "metadata": {},
   "outputs": [],
   "source": [
    "def probAttr(data, attr, val):\n",
    "    total = data.shape[0]\n",
    "    cnt = len(data[attr]==val)\n",
    "    return cnt, cnt/total"
   ]
  },
  {
   "cell_type": "code",
   "execution_count": 46,
   "metadata": {},
   "outputs": [],
   "source": [
    "def Train(data, Attr, ConceptList, concept):\n",
    "    countConcept = {}\n",
    "    ConceptProb = {}\n",
    "    \n",
    "    for cval in ConceptList:\n",
    "        countConcept[cval], ConceptProb[cval] = probAttr(data,concept,cval)\n",
    "        \n",
    "    AttrConcept = {}\n",
    "    Probability = {}\n",
    "    \n",
    "    \n",
    "    for attr in Attr:\n",
    "        AttrConcept[attr] = {}\n",
    "        Probability[attr] = {}\n",
    "        for val in Attr[attr]:\n",
    "            AttrConcept[attr][val] = {}\n",
    "            a,Probability[attr][val] = probAttr(data,attr,val)\n",
    "            for cval in ConceptList:\n",
    "                dataTemp = data[data[attr]==val]\n",
    "                AttrConcept[attr][val][cval] = len(dataTemp[dataTemp[concept]==cval])/countConcept[cval] \n",
    "                \n",
    "    print(f\"p(A): {ConceptProb}\")\n",
    "    print(f\"p(X|A): {AttrConcept}\")\n",
    "    print(f\"p(X): {Probability}\")\n",
    "    \n",
    "    return ConceptProb, AttrConcept,Probability"
   ]
  },
  {
   "cell_type": "code",
   "execution_count": 47,
   "metadata": {},
   "outputs": [],
   "source": [
    "def Test(example,Attr,ConceptVals,concetProb, AttrConcept, Probability_list):\n",
    "    misclassification_count= 0\n",
    "    total = len(example)\n",
    "    \n",
    "    for ex in example:\n",
    "        px = {}\n",
    "        for a in Attr:\n",
    "            for x in ex:\n",
    "                for c in ConceptVals:\n",
    "                    if x in AttrConcept[a]:\n",
    "                        if c not in px:\n",
    "                            px[c] = concetProb[c]*AttrConcept[a][x][c]*Probability_list[a][x]\n",
    "                        else:\n",
    "                            px[c] = px[c]*AttrConcept[a][x][c]*Probability_list[a][x]\n",
    "        classification = max(px, key=px.get)\n",
    "        print(f\"{classification} -- {ex[-1]}\")\n",
    "        if classification != ex[-1]:\n",
    "            misclassification_count +=1\n",
    "            \n",
    "    misclassificationRate = misclassification_count*100/total\n",
    "    \n",
    "    misclassificationAccuracy = 100 -misclassificationRate\n",
    "    print(f\"{misclassification_count}\")\n",
    "    print(f\"{misclassificationRate}\")\n",
    "    print(f\"{misclassificationAccuracy}\")"
   ]
  },
  {
   "cell_type": "code",
   "execution_count": 48,
   "metadata": {},
   "outputs": [
    {
     "name": "stdout",
     "output_type": "stream",
     "text": [
      "Outlook - {'Overcast', 'Sunny', 'Rain'}\n",
      "Temperature - {'Cool', 'Hot', 'Mild'}\n",
      "Humidity - {'Normal', 'High'}\n",
      "Wind - {'Weak', 'Strong'}\n",
      "p(A): {'Yes': 1.0, 'No': 1.0}\n",
      "p(X|A): {'Outlook': {'Overcast': {'Yes': 0.2857142857142857, 'No': 0.0}, 'Sunny': {'Yes': 0.14285714285714285, 'No': 0.21428571428571427}, 'Rain': {'Yes': 0.21428571428571427, 'No': 0.14285714285714285}}, 'Temperature': {'Cool': {'Yes': 0.21428571428571427, 'No': 0.07142857142857142}, 'Hot': {'Yes': 0.14285714285714285, 'No': 0.14285714285714285}, 'Mild': {'Yes': 0.2857142857142857, 'No': 0.14285714285714285}}, 'Humidity': {'Normal': {'Yes': 0.42857142857142855, 'No': 0.07142857142857142}, 'High': {'Yes': 0.21428571428571427, 'No': 0.2857142857142857}}, 'Wind': {'Weak': {'Yes': 0.42857142857142855, 'No': 0.14285714285714285}, 'Strong': {'Yes': 0.21428571428571427, 'No': 0.21428571428571427}}}\n",
      "p(X): {'Outlook': {'Overcast': 1.0, 'Sunny': 1.0, 'Rain': 1.0}, 'Temperature': {'Cool': 1.0, 'Hot': 1.0, 'Mild': 1.0}, 'Humidity': {'Normal': 1.0, 'High': 1.0}, 'Wind': {'Weak': 1.0, 'Strong': 1.0}}\n",
      "Yes -- No\n",
      "No -- No\n",
      "Yes -- Yes\n",
      "Yes -- Yes\n",
      "Yes -- Yes\n",
      "Yes -- No\n",
      "Yes -- Yes\n",
      "Yes -- No\n",
      "Yes -- Yes\n",
      "Yes -- Yes\n",
      "Yes -- Yes\n",
      "Yes -- Yes\n",
      "Yes -- Yes\n",
      "Yes -- No\n",
      "4\n",
      "28.571428571428573\n",
      "71.42857142857143\n"
     ]
    }
   ],
   "source": [
    "data = pd.read_csv('PlayTennis5.csv')\n",
    "concept = str(list(data)[-1])\n",
    "concept_list = set(data[concept])\n",
    "attr = {}\n",
    "\n",
    "for val in data.columns[:-1]:\n",
    "    attr[val] = set(data[val])\n",
    "    print(val,'-', attr[val])\n",
    "concetProb, AttrConcept, Probability_list = Train(data, attr, concept_list, concept)\n",
    "ex = pd.read_csv('PlayTennis5.csv')\n",
    "Test(ex.values, attr, concept_list, concetProb, AttrConcept, Probability_list)"
   ]
  },
  {
   "cell_type": "code",
   "execution_count": null,
   "metadata": {},
   "outputs": [],
   "source": []
  },
  {
   "cell_type": "code",
   "execution_count": null,
   "metadata": {},
   "outputs": [],
   "source": []
  }
 ],
 "metadata": {
  "kernelspec": {
   "display_name": "Python 3",
   "language": "python",
   "name": "python3"
  },
  "language_info": {
   "codemirror_mode": {
    "name": "ipython",
    "version": 3
   },
   "file_extension": ".py",
   "mimetype": "text/x-python",
   "name": "python",
   "nbconvert_exporter": "python",
   "pygments_lexer": "ipython3",
   "version": "3.8.3"
  }
 },
 "nbformat": 4,
 "nbformat_minor": 4
}
