{
 "cells": [
  {
   "cell_type": "code",
   "execution_count": 1,
   "metadata": {},
   "outputs": [],
   "source": [
    "import pandas as pd\n",
    "import numpy as np"
   ]
  },
  {
   "cell_type": "code",
   "execution_count": 9,
   "metadata": {},
   "outputs": [],
   "source": [
    "X = np.array(([2,9],[1,5],[3,6]),dtype = float)\n",
    "y = np.array(([92],[86],[88]), dtype = float)\n",
    "X = X/np.amax(X, axis = 0)\n",
    "y = y/100\n"
   ]
  },
  {
   "cell_type": "code",
   "execution_count": 10,
   "metadata": {},
   "outputs": [],
   "source": [
    "def sigmoid(x):\n",
    "    return 1/(1+np.exp(-x))\n",
    "\n",
    "def derivative_sigmoid(x):\n",
    "    return x*(x-1)\n"
   ]
  },
  {
   "cell_type": "code",
   "execution_count": 12,
   "metadata": {},
   "outputs": [
    {
     "name": "stdout",
     "output_type": "stream",
     "text": [
      "[[0.66666667 1.        ]\n",
      " [0.33333333 0.55555556]\n",
      " [1.         0.66666667]] \n",
      " [[0.92]\n",
      " [0.86]\n",
      " [0.88]] \n",
      " [[0.59814271]\n",
      " [0.55827705]\n",
      " [0.5977516 ]]\n"
     ]
    }
   ],
   "source": [
    "epoch = 1000\n",
    "inputlayer_neuron = 2\n",
    "outputlayer_neuron = 1\n",
    "hiddenlayer_neuron = 3\n",
    "learningRate = 0.6\n",
    "\n",
    "\n",
    "wh = np.random.uniform(size=(inputlayer_neuron, hiddenlayer_neuron))\n",
    "bh = np.random.uniform(size=(1, hiddenlayer_neuron))\n",
    "\n",
    "wo = np.random.uniform(size=(hiddenlayer_neuron, outputlayer_neuron))\n",
    "bo = np.random.uniform(size=(1, outputlayer_neuron))\n",
    "for i in range(epoch):\n",
    "    \n",
    "    net_h = np.dot(X, wh)+bh\n",
    "    sigmoid_h = sigmoid(net_h)\n",
    "    net_o = np.dot(sigmoid_h,wo)+bo \n",
    "    output = sigmoid(net_o)\n",
    "    \n",
    "    deltak = (y-output) * derivative_sigmoid(output)\n",
    "    deltah = deltak.dot(wo.T) *derivative_sigmoid(sigmoid_h)\n",
    "    \n",
    "    wo = wo + sigmoid_h.T.dot(deltak) * learningRate\n",
    "    wh = wh + X.T.dot(deltah) * learningRate\n",
    "    \n",
    "print(X, \"\\n\", y, \"\\n\", output)"
   ]
  },
  {
   "cell_type": "code",
   "execution_count": null,
   "metadata": {},
   "outputs": [],
   "source": []
  },
  {
   "cell_type": "code",
   "execution_count": null,
   "metadata": {},
   "outputs": [],
   "source": []
  }
 ],
 "metadata": {
  "kernelspec": {
   "display_name": "Python 3",
   "language": "python",
   "name": "python3"
  },
  "language_info": {
   "codemirror_mode": {
    "name": "ipython",
    "version": 3
   },
   "file_extension": ".py",
   "mimetype": "text/x-python",
   "name": "python",
   "nbconvert_exporter": "python",
   "pygments_lexer": "ipython3",
   "version": "3.8.3"
  }
 },
 "nbformat": 4,
 "nbformat_minor": 4
}
