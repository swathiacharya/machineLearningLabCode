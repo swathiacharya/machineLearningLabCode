{
 "cells": [
  {
   "cell_type": "code",
   "execution_count": 10,
   "metadata": {},
   "outputs": [],
   "source": [
    "import pandas as pd\n",
    "import numpy as np"
   ]
  },
  {
   "cell_type": "code",
   "execution_count": 11,
   "metadata": {},
   "outputs": [],
   "source": [
    "dataset = pd.read_csv(\"PlayTennis.csv\", names =['outlook', 'temperature','humidity','wind','class'] )"
   ]
  },
  {
   "cell_type": "code",
   "execution_count": 22,
   "metadata": {},
   "outputs": [],
   "source": [
    "def entropy(targetCol):\n",
    "    ele, counts = np.unique(targetCol, return_counts = True)\n",
    "    entropy = np.sum([(-counts[i]/np.sum(counts))*np.log2(counts[i]/np.sum(counts)) for i in range(len(ele))])\n",
    "    return entropy"
   ]
  },
  {
   "cell_type": "code",
   "execution_count": 29,
   "metadata": {},
   "outputs": [],
   "source": [
    "def InfoGain(data,split_target,targetName = 'class'):\n",
    "    totalEntropy = entropy(data[targetName])\n",
    "    vals, counts = np.unique(data[split_target], return_counts = True)\n",
    "    weight = np.sum([(counts[i]/np.sum(counts)) * entropy(data.where(data[split_target] == vals[i]).dropna()[targetName]) for i in range(len(vals))])\n",
    "    info = totalEntropy - weight\n",
    "    return info"
   ]
  },
  {
   "cell_type": "code",
   "execution_count": 32,
   "metadata": {},
   "outputs": [],
   "source": [
    "def ID3(data, originaldata, features, targetName = 'class', parentNode = None):\n",
    "    if len(np.unique(data[targetName]))<=1:\n",
    "        return np.unique(data[targetName])[0]\n",
    "    elif len(data) == 0:\n",
    "        return np.unique(originaldata[targetName])[np.argmax(np.unique(originaldata[targetName], return_counts =True)[1])]\n",
    "    elif len(features) == 0:\n",
    "        return parentNode\n",
    "    else:\n",
    "        parentNode = np.unique(data[targetName])[np.argmax(np.unique(data[targetName], return_counts =True)[1])]\n",
    "    \n",
    "    \n",
    "    item = [InfoGain(data, feature, targetName) for feature in features]\n",
    "    index = np.argmax(item)\n",
    "    best_feature = features[index]\n",
    "    tree = {best_feature : {}}\n",
    "    features = [i for i in features if i != best_feature]\n",
    "    \n",
    "    for value in np.unique(data[best_feature]):\n",
    "        value = value\n",
    "        subdata = data.where(data[best_feature] == value).dropna()\n",
    "        subtree = ID3(subdata, dataset, features, targetName, parentNode)\n",
    "        tree[best_feature][value] =subtree\n",
    "    return tree"
   ]
  },
  {
   "cell_type": "code",
   "execution_count": 33,
   "metadata": {},
   "outputs": [
    {
     "name": "stdout",
     "output_type": "stream",
     "text": [
      "{'outlook': {'Overcast': 'Yes', 'Rain': {'wind': {'Strong': 'No', 'Weak': 'Yes'}}, 'Sunny': {'humidity': {'High': 'No', 'Normal': 'Yes'}}}}\n"
     ]
    }
   ],
   "source": [
    "tree = ID3(dataset, dataset, dataset.columns[:-1])\n",
    "print(tree)"
   ]
  },
  {
   "cell_type": "code",
   "execution_count": null,
   "metadata": {},
   "outputs": [],
   "source": []
  },
  {
   "cell_type": "code",
   "execution_count": null,
   "metadata": {},
   "outputs": [],
   "source": []
  }
 ],
 "metadata": {
  "kernelspec": {
   "display_name": "Python 3",
   "language": "python",
   "name": "python3"
  },
  "language_info": {
   "codemirror_mode": {
    "name": "ipython",
    "version": 3
   },
   "file_extension": ".py",
   "mimetype": "text/x-python",
   "name": "python",
   "nbconvert_exporter": "python",
   "pygments_lexer": "ipython3",
   "version": "3.8.3"
  }
 },
 "nbformat": 4,
 "nbformat_minor": 4
}
