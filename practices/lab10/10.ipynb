{
 "cells": [
  {
   "cell_type": "code",
   "execution_count": 35,
   "metadata": {},
   "outputs": [],
   "source": [
    "\n",
    "import numpy as np\n",
    "import math\n",
    "import matplotlib.pyplot as plt\n",
    "from math import ceil\n",
    "from scipy import linalg"
   ]
  },
  {
   "cell_type": "code",
   "execution_count": 42,
   "metadata": {},
   "outputs": [],
   "source": [
    "def lowess(x,y,f,iterations):\n",
    "    n = len(x)\n",
    "    r = int(ceil(f*n))\n",
    "    h = [np.sort(np.abs(x-x[i]))[r] for i in range(n)]\n",
    "    w = np.clip(np.abs((x[:, None]-x[None, :])/h), 0.0, 1.0)\n",
    "    w = (1-w**3)**3\n",
    "    y_estimate = np.zeros(n)\n",
    "    delta = np.ones(n)\n",
    "    \n",
    "    \n",
    "    for iteration in range(iterations):\n",
    "        for i in range(n):\n",
    "            weight = delta * w[:, i]\n",
    "            b = np.array([np.sum(weight*y),np.sum(weight*y* x)])\n",
    "            A = np.array([[np.sum(weight),np.sum(weight*x)], [np.sum(weight* x),np.sum(weight*x*x)]])\n",
    "            beta = linalg.solve(A,b)\n",
    "            y_estimate[i] = beta[0]+beta[1]*x[i]\n",
    "            \n",
    "        red = y - y_estimate\n",
    "        s = np.median(np.abs(red))\n",
    "        delta = np.clip(red/(6.0*s), -1, 1)\n",
    "        delta = (1- delta**2)**2\n",
    "    return y_estimate\n",
    "    "
   ]
  },
  {
   "cell_type": "code",
   "execution_count": 43,
   "metadata": {},
   "outputs": [
    {
     "data": {
      "text/plain": [
       "[<matplotlib.lines.Line2D at 0x7fb46400cf70>]"
      ]
     },
     "execution_count": 43,
     "metadata": {},
     "output_type": "execute_result"
    },
    {
     "data": {
      "image/png": "[encoded data removed]",
      "text/plain": [
       "<Figure size 432x288 with 1 Axes>"
      ]
     },
     "metadata": {
      "needs_background": "light"
     },
     "output_type": "display_data"
    }
   ],
   "source": [
    "n = 100\n",
    "x = np.linspace(0, 2*math.pi, n)\n",
    "y = np.sin(x) + 0.3 * np.random.randn(n)\n",
    "f = .25\n",
    "iterations = 3 \n",
    "y_estimate = lowess(x,y,f,iterations)\n",
    "\n",
    "\n",
    "plt.plot(x,y,'r.')\n",
    "plt.plot(x,y_estimate,'b-')"
   ]
  },
  {
   "cell_type": "code",
   "execution_count": null,
   "metadata": {},
   "outputs": [],
   "source": []
  }
 ],
 "metadata": {
  "kernelspec": {
   "display_name": "Python 3",
   "language": "python",
   "name": "python3"
  },
  "language_info": {
   "codemirror_mode": {
    "name": "ipython",
    "version": 3
   },
   "file_extension": ".py",
   "mimetype": "text/x-python",
   "name": "python",
   "nbconvert_exporter": "python",
   "pygments_lexer": "ipython3",
   "version": "3.8.3"
  }
 },
 "nbformat": 4,
 "nbformat_minor": 4
}
