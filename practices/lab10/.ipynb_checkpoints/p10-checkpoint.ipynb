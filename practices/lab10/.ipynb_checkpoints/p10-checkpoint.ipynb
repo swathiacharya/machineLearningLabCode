{
 "cells": [
  {
   "cell_type": "code",
   "execution_count": 5,
   "metadata": {},
   "outputs": [],
   "source": [
    "import pandas as pd\n",
    "import math\n",
    "import matplotlib.pyplot as plt\n",
    "import numpy as np\n",
    "from math import ceil\n",
    "from scipy import linalg"
   ]
  },
  {
   "cell_type": "code",
   "execution_count": 10,
   "metadata": {},
   "outputs": [],
   "source": [
    "def lowess(x, y, f, iterations):\n",
    "    n = len(x)\n",
    "    r = int(ceil(f*n))\n",
    "    h = [np.sort(np.abs(x-x[i]))[r] for i in range(n)]\n",
    "    w = np.clip(np.abs((x[:, None]- x[None, :])/h), 0.0, 1.0)\n",
    "    w =(1-w ** 3)**3\n",
    "    \n",
    "    y_est = np.zeros(n)\n",
    "    delta = np.ones(n)\n",
    "    \n",
    "    \n",
    "    for itera in range(iterations):\n",
    "        for i in range(n):\n",
    "            weg = delta * w[:, i]\n",
    "            \n",
    "            b = np.array([np.sum(weg*y) ,np.sum(weg*y*x)])\n",
    "            A = np.array([[np.sum(weg) ,np.sum(weg*x)], [np.sum(weg*x) ,np.sum(weg*x*x)]])\n",
    "            \n",
    "            beta = linalg.solve(A,b)\n",
    "            y_est[i] = beta[0] + beta[1] * x[i]\n",
    "            \n",
    "        res = y - y_est\n",
    "        s = np.median(np.abs(res))\n",
    "        delta = np.clip(res/(s*6.0),-1,1)\n",
    "\n",
    "        delta = (1-delta**2)**2\n",
    "        \n",
    "    return y_est\n",
    "        "
   ]
  },
  {
   "cell_type": "code",
   "execution_count": 12,
   "metadata": {},
   "outputs": [
    {
     "data": {
      "text/plain": [
       "[<matplotlib.lines.Line2D at 0x7f6bbf219850>]"
      ]
     },
     "execution_count": 12,
     "metadata": {},
     "output_type": "execute_result"
    },
    {
     "data": {
      "image/png": "[encoded data removed]",
      "text/plain": [
       "<Figure size 432x288 with 1 Axes>"
      ]
     },
     "metadata": {
      "needs_background": "light"
     },
     "output_type": "display_data"
    }
   ],
   "source": [
    "n = 100\n",
    "x = np.linspace(0, 2* math.pi, n)\n",
    "y = np.sin(x) + 0.3 * np.random.randn(n)\n",
    "f = 0.25\n",
    "iterations  = 3\n",
    "y_est = lowess(x, y, f, iterations)\n",
    "\n",
    "plt.plot(x,y,'r.')\n",
    "plt.plot(x,y_est,'b-')\n"
   ]
  },
  {
   "cell_type": "code",
   "execution_count": null,
   "metadata": {},
   "outputs": [],
   "source": []
  }
 ],
 "metadata": {
  "kernelspec": {
   "display_name": "Python 3",
   "language": "python",
   "name": "python3"
  },
  "language_info": {
   "codemirror_mode": {
    "name": "ipython",
    "version": 3
   },
   "file_extension": ".py",
   "mimetype": "text/x-python",
   "name": "python",
   "nbconvert_exporter": "python",
   "pygments_lexer": "ipython3",
   "version": "3.8.3"
  }
 },
 "nbformat": 4,
 "nbformat_minor": 4
}
