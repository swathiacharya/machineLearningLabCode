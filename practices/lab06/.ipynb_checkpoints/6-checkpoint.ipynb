{
 "cells": [
  {
   "cell_type": "code",
   "execution_count": 17,
   "metadata": {},
   "outputs": [],
   "source": [
    "import pandas as pd\n",
    "import numpy as np\n",
    "\n",
    "from sklearn.model_selection import train_test_split\n",
    "from sklearn.naive_bayes import MultinomialNB\n",
    "from sklearn.feature_extraction.text import CountVectorizer\n",
    "from sklearn.metrics import (accuracy_score, confusion_matrix, precision_score, recall_score)"
   ]
  },
  {
   "cell_type": "code",
   "execution_count": 18,
   "metadata": {},
   "outputs": [
    {
     "name": "stdout",
     "output_type": "stream",
     "text": [
      "18\n"
     ]
    }
   ],
   "source": [
    "msg = pd.read_csv('document.csv', names= ['message', 'label'])\n",
    "print(msg.shape[0])\n",
    "msg['labelnum'] = msg.label.map({'pos':1,'neg':0})\n",
    "\n",
    "X = msg['message']\n",
    "y = msg['labelnum']\n",
    "\n"
   ]
  },
  {
   "cell_type": "code",
   "execution_count": 19,
   "metadata": {},
   "outputs": [],
   "source": [
    "X_train, X_test, y_train, y_test = train_test_split(X,y)\n",
    "countV = CountVectorizer()\n",
    "X_train_dm = countV.fit_transform(X_train)\n",
    "X_test_dm = countV.transform(X_test)\n",
    "\n",
    "df = pd.DataFrame(X_train_dm.toarray(),columns=countV.get_feature_names())"
   ]
  },
  {
   "cell_type": "code",
   "execution_count": 22,
   "metadata": {},
   "outputs": [
    {
     "name": "stdout",
     "output_type": "stream",
     "text": [
      "pos -- > I love this sandwich\n",
      "pos -- > He is my sworn enemy\n",
      "pos -- > This is an amazing place\n",
      "neg -- > That is a bad locality to stay\n",
      "neg -- > I do not like this restaurant\n",
      "0.6\n",
      "[[1 1]\n",
      " [1 2]]\n",
      "0.6666666666666666\n"
     ]
    }
   ],
   "source": [
    "clf = MultinomialNB()\n",
    "clf.fit(X_train_dm, y_train)\n",
    "pred = clf.predict(X_test_dm)\n",
    "\n",
    "for doc, p in zip(X_train, pred):\n",
    "    p ='pos' if p == 1 else 'neg'\n",
    "    print(f\"{p} -- > {doc}\")\n",
    "    \n",
    "print(f\"{accuracy_score(y_test,pred)}\")\n",
    "print(f\"{confusion_matrix(y_test,pred)}\")\n",
    "print(f\"{recall_score(y_test,pred)}\")"
   ]
  },
  {
   "cell_type": "code",
   "execution_count": null,
   "metadata": {},
   "outputs": [],
   "source": []
  }
 ],
 "metadata": {
  "kernelspec": {
   "display_name": "Python 3",
   "language": "python",
   "name": "python3"
  },
  "language_info": {
   "codemirror_mode": {
    "name": "ipython",
    "version": 3
   },
   "file_extension": ".py",
   "mimetype": "text/x-python",
   "name": "python",
   "nbconvert_exporter": "python",
   "pygments_lexer": "ipython3",
   "version": "3.8.3"
  }
 },
 "nbformat": 4,
 "nbformat_minor": 4
}
