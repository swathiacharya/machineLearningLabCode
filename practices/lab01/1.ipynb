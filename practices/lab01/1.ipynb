{
 "cells": [
  {
   "cell_type": "code",
   "execution_count": 17,
   "metadata": {},
   "outputs": [],
   "source": [
    "# find s algorithm\n",
    "\n",
    "import csv"
   ]
  },
  {
   "cell_type": "code",
   "execution_count": 18,
   "metadata": {},
   "outputs": [
    {
     "name": "stdout",
     "output_type": "stream",
     "text": [
      "[['sky', 'airtemp', 'humidity', 'wind', 'water', 'forcast', 'enjoysport'], ['sunny', 'warm', 'normal', 'strong', 'warm', 'same', 'yes'], ['sunny', 'warm', 'high', 'strong', 'warm', 'same', 'yes'], ['rainy', 'cold', 'high', 'strong', 'warm', 'change', 'no'], ['sunny', 'warm', 'high', 'strong', 'cool', 'change', 'yes']]\n"
     ]
    }
   ],
   "source": [
    "a = []\n",
    "with open('enjoysport.csv','r') as csvFile:\n",
    "    for row in csv.reader(csvFile):\n",
    "        a.append(row)\n",
    "    print(a)\n"
   ]
  },
  {
   "cell_type": "code",
   "execution_count": 19,
   "metadata": {},
   "outputs": [
    {
     "name": "stdout",
     "output_type": "stream",
     "text": [
      "5\n",
      "6\n",
      "['0', '0', '0', '0', '0', '0']\n"
     ]
    }
   ],
   "source": [
    "print(len(a))\n",
    "num = len(a[0])-1\n",
    "print(num)\n",
    "hyp = ['0'] * num\n",
    "print(hyp)"
   ]
  },
  {
   "cell_type": "code",
   "execution_count": 20,
   "metadata": {},
   "outputs": [
    {
     "name": "stdout",
     "output_type": "stream",
     "text": [
      "Step 1\n",
      "['0', '0', '0', '0', '0', '0']\n",
      "Step 2\n",
      "['sunny', 'warm', 'normal', 'strong', 'warm', 'same']\n",
      "Step 3\n",
      "['sunny', 'warm', '?', 'strong', 'warm', 'same']\n",
      "Step 4\n",
      "['sunny', 'warm', '?', 'strong', 'warm', 'same']\n",
      "Step 5\n",
      "['sunny', 'warm', '?', 'strong', '?', '?']\n",
      "final hyppothesis\n",
      "['sunny', 'warm', '?', 'strong', '?', '?']\n"
     ]
    }
   ],
   "source": [
    "for i in range(0, len(a)):\n",
    "    if a[i][num] == 'yes':\n",
    "        for j in range(0, num):\n",
    "            if hyp[j] == '0' or hyp[j]==a[i][j]:\n",
    "                hyp[j]=a[i][j]\n",
    "            else:\n",
    "                hyp[j]= '?'\n",
    "    print('Step', i+1)\n",
    "    print(hyp)\n",
    "print('final hyppothesis')\n",
    "\n",
    "print(hyp)"
   ]
  },
  {
   "cell_type": "code",
   "execution_count": null,
   "metadata": {},
   "outputs": [],
   "source": []
  },
  {
   "cell_type": "code",
   "execution_count": null,
   "metadata": {},
   "outputs": [],
   "source": []
  }
 ],
 "metadata": {
  "kernelspec": {
   "display_name": "Python 3",
   "language": "python",
   "name": "python3"
  },
  "language_info": {
   "codemirror_mode": {
    "name": "ipython",
    "version": 3
   },
   "file_extension": ".py",
   "mimetype": "text/x-python",
   "name": "python",
   "nbconvert_exporter": "python",
   "pygments_lexer": "ipython3",
   "version": "3.8.3"
  }
 },
 "nbformat": 4,
 "nbformat_minor": 4
}
