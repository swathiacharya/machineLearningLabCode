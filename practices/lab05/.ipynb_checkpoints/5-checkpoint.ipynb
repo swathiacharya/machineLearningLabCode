{
 "cells": [
  {
   "cell_type": "code",
   "execution_count": 14,
   "metadata": {},
   "outputs": [],
   "source": [
    "import pandas as pd"
   ]
  },
  {
   "cell_type": "code",
   "execution_count": 15,
   "metadata": {},
   "outputs": [],
   "source": [
    "def probAttr(data, attr, val):\n",
    "    total = data.shape[0]\n",
    "    cnt = len(data[attr] == val)\n",
    "    return cnt, cnt / total"
   ]
  },
  {
   "cell_type": "code",
   "execution_count": 25,
   "metadata": {},
   "outputs": [],
   "source": [
    "def train(data, Attr, conceptVal, concept):\n",
    "    countConcept = {}\n",
    "    ConceptProb = {}\n",
    "    for cval in conceptVal:\n",
    "        countConcept[cval], ConceptProb[cval] = probAttr(data, concept, cval)\n",
    "    \n",
    "    AttrConcept = {}\n",
    "    ProbabilityList = {}\n",
    "    \n",
    "    for att in Attr:\n",
    "        AttrConcept[att] = {}\n",
    "        ProbabilityList[att] = {} \n",
    "        for val in Attr[att]:\n",
    "            AttrConcept[att][val] = {}\n",
    "            a, ProbabilityList[att][val] = probAttr(data, att, val)\n",
    "            for cval in conceptVal:\n",
    "                dataTemp = data[data[att] == val]\n",
    "                AttrConcept[att][val][cval] = len(dataTemp[dataTemp[concept] == cval])/countConcept[cval]\n",
    "    print(ConceptProb, '\\n', AttrConcept, '\\n', ProbabilityList)\n",
    "                \n",
    "    return ConceptProb, AttrConcept, ProbabilityList     "
   ]
  },
  {
   "cell_type": "code",
   "execution_count": 28,
   "metadata": {},
   "outputs": [],
   "source": [
    "def test(example, Attr, conceptVal, conceptProb, AttrConcept, ProbabilityList):\n",
    "    misClasCount = 0\n",
    "    total = len(example)\n",
    "    \n",
    "    for ex in example:\n",
    "        px= {}\n",
    "        for a in Attr:\n",
    "            for x in ex:\n",
    "                for c in conceptVal:\n",
    "                    if x in AttrConcept[a]:\n",
    "                        if c not in px:\n",
    "                            px[c] = conceptProb[c] * AttrConcept[a][x][c] / ProbabilityList[a][x]\n",
    "                        else:\n",
    "                            px[c] = px[c] * AttrConcept[a][x][c] / ProbabilityList[a][x]\n",
    "        classification = max(px, key = px.get)\n",
    "        print(classification, '\\n', ex[-1])\n",
    "        if classification!= ex[-1]:\n",
    "            misClasCount += 1\n",
    "    \n",
    "    misrate = misClasCount*100/total\n",
    "    accuracy = 100 - misrate\n",
    "    \n",
    "    print(f\"{misrate}%\")\n",
    "    print(f\"{accuracy}%\")\n",
    "    print(f\"{misClasCount}%\")"
   ]
  },
  {
   "cell_type": "code",
   "execution_count": 29,
   "metadata": {},
   "outputs": [
    {
     "name": "stdout",
     "output_type": "stream",
     "text": [
      "Outlook --> {'Sunny', 'Overcast', 'Rain'}\n",
      "Temperature --> {'Mild', 'Hot', 'Cool'}\n",
      "Humidity --> {'Normal', 'High'}\n",
      "Wind --> {'Weak', 'Strong'}\n",
      "{'No': 1.0, 'Yes': 1.0} \n",
      " {'Outlook': {'Sunny': {'No': 0.21428571428571427, 'Yes': 0.14285714285714285}, 'Overcast': {'No': 0.0, 'Yes': 0.2857142857142857}, 'Rain': {'No': 0.14285714285714285, 'Yes': 0.21428571428571427}}, 'Temperature': {'Mild': {'No': 0.14285714285714285, 'Yes': 0.2857142857142857}, 'Hot': {'No': 0.14285714285714285, 'Yes': 0.14285714285714285}, 'Cool': {'No': 0.07142857142857142, 'Yes': 0.21428571428571427}}, 'Humidity': {'Normal': {'No': 0.07142857142857142, 'Yes': 0.42857142857142855}, 'High': {'No': 0.2857142857142857, 'Yes': 0.21428571428571427}}, 'Wind': {'Weak': {'No': 0.14285714285714285, 'Yes': 0.42857142857142855}, 'Strong': {'No': 0.21428571428571427, 'Yes': 0.21428571428571427}}} \n",
      " {'Outlook': {'Sunny': 1.0, 'Overcast': 1.0, 'Rain': 1.0}, 'Temperature': {'Mild': 1.0, 'Hot': 1.0, 'Cool': 1.0}, 'Humidity': {'Normal': 1.0, 'High': 1.0}, 'Wind': {'Weak': 1.0, 'Strong': 1.0}}\n",
      "Yes \n",
      " No\n",
      "No \n",
      " No\n",
      "Yes \n",
      " Yes\n",
      "Yes \n",
      " Yes\n",
      "Yes \n",
      " Yes\n",
      "Yes \n",
      " No\n",
      "Yes \n",
      " Yes\n",
      "Yes \n",
      " No\n",
      "Yes \n",
      " Yes\n",
      "Yes \n",
      " Yes\n",
      "Yes \n",
      " Yes\n",
      "Yes \n",
      " Yes\n",
      "Yes \n",
      " Yes\n",
      "Yes \n",
      " No\n",
      "28.571428571428573%\n",
      "71.42857142857143%\n",
      "4%\n"
     ]
    }
   ],
   "source": [
    "df = pd.read_csv('PlayTennis5.csv')\n",
    "concept = str(list(df)[-1])\n",
    "conceptList = set(df[concept])\n",
    "Attr = {}\n",
    "\n",
    "for a in df.columns[:-1]:\n",
    "    Attr[a] = set(df[a])\n",
    "    print(f\"{a} --> {Attr[a]}\")\n",
    "\n",
    "conceptProb, AttrConcept, ProbabilityList = train(df, Attr, conceptList, concept)\n",
    "example = pd.read_csv('PlayTennis5.csv')\n",
    "test(example.values, Attr, conceptList, conceptProb, AttrConcept, ProbabilityList)"
   ]
  },
  {
   "cell_type": "code",
   "execution_count": null,
   "metadata": {},
   "outputs": [],
   "source": []
  },
  {
   "cell_type": "code",
   "execution_count": null,
   "metadata": {},
   "outputs": [],
   "source": []
  }
 ],
 "metadata": {
  "kernelspec": {
   "display_name": "Python 3",
   "language": "python",
   "name": "python3"
  },
  "language_info": {
   "codemirror_mode": {
    "name": "ipython",
    "version": 3
   },
   "file_extension": ".py",
   "mimetype": "text/x-python",
   "name": "python",
   "nbconvert_exporter": "python",
   "pygments_lexer": "ipython3",
   "version": "3.8.3"
  }
 },
 "nbformat": 4,
 "nbformat_minor": 4
}
