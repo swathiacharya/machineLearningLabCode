{
 "cells": [
  {
   "cell_type": "code",
   "execution_count": 11,
   "metadata": {},
   "outputs": [],
   "source": [
    "import pandas as pd\n"
   ]
  },
  {
   "cell_type": "code",
   "execution_count": 12,
   "metadata": {},
   "outputs": [],
   "source": [
    "def probAttr(data, attr, val):\n",
    "    total = data.shape[0]\n",
    "    cnt = len(data[attr] == val)\n",
    "    return cnt, cnt/total"
   ]
  },
  {
   "cell_type": "code",
   "execution_count": 13,
   "metadata": {},
   "outputs": [],
   "source": [
    "def train(data,Attr,conceptList,concept):\n",
    "    countConcept = {}\n",
    "    conceptProb = {}\n",
    "    \n",
    "    for cval in conceptList:\n",
    "        countConcept[cval],conceptProb[cval] = probAttr(data, concept, cval)\n",
    "        \n",
    "    AttrConcept = {}\n",
    "    ProbabilityList = {}\n",
    "    \n",
    "    \n",
    "    for att in Attr:\n",
    "        AttrConcept[att] = {}\n",
    "        ProbabilityList[att] = {}\n",
    "        for val in Attr[att]:\n",
    "            AttrConcept[att][val] = {}\n",
    "            A, ProbabilityList[att][val] =  probAttr(data, att, val)\n",
    "            for cval in conceptList:\n",
    "                dataTemp = data[data[att]== val]\n",
    "                AttrConcept[att][val][cval] = len(data[data[concept]== cval])/countConcept[cval]\n",
    "                \n",
    "    print(conceptProb,'\\n', AttrConcept, '\\n',ProbabilityList)\n",
    "    return conceptProb, AttrConcept, ProbabilityList\n",
    "        "
   ]
  },
  {
   "cell_type": "code",
   "execution_count": 14,
   "metadata": {},
   "outputs": [],
   "source": [
    "def test(example,Attr,conceptList,conceptProb, AttrConcept, ProbabilityList):\n",
    "    miss = 0\n",
    "    total = len(example)\n",
    "    \n",
    "    for ex in example:\n",
    "        px = {}\n",
    "        for a in Attr:\n",
    "            for x in ex:\n",
    "                for c in conceptList:\n",
    "                    if x in AttrConcept[a]:\n",
    "                        if c not in px:\n",
    "                            px[c] = conceptProb[c] * AttrConcept[a][x][c]/ProbabilityList[a][x]\n",
    "                        else:\n",
    "                            px[c] = px[c] * AttrConcept[a][x][c]/ProbabilityList[a][x]\n",
    "        classifier = max(px, key = px.get)\n",
    "        print(f\"{classifier} ==> {ex[-1]}\")\n",
    "        \n",
    "        if classifier != ex[-1]:\n",
    "            miss +=1\n",
    "    missRate = miss *100 / total\n",
    "    accuracy = 100 - missRate\n",
    "    \n",
    "    print(f\"{miss}%\")\n",
    "    print(f\"{missRate}%\")\n",
    "    print(f\"{accuracy}%\")"
   ]
  },
  {
   "cell_type": "code",
   "execution_count": 15,
   "metadata": {},
   "outputs": [
    {
     "name": "stdout",
     "output_type": "stream",
     "text": [
      "Outlook -- > {'Sunny', 'Overcast', 'Rain'}\n",
      "Temperature -- > {'Cool', 'Mild', 'Hot'}\n",
      "Humidity -- > {'High', 'Normal'}\n",
      "Wind -- > {'Strong', 'Weak'}\n",
      "{'Yes': 1.0, 'No': 1.0} \n",
      " {'Outlook': {'Sunny': {'Yes': 0.6428571428571429, 'No': 0.35714285714285715}, 'Overcast': {'Yes': 0.6428571428571429, 'No': 0.35714285714285715}, 'Rain': {'Yes': 0.6428571428571429, 'No': 0.35714285714285715}}, 'Temperature': {'Cool': {'Yes': 0.6428571428571429, 'No': 0.35714285714285715}, 'Mild': {'Yes': 0.6428571428571429, 'No': 0.35714285714285715}, 'Hot': {'Yes': 0.6428571428571429, 'No': 0.35714285714285715}}, 'Humidity': {'High': {'Yes': 0.6428571428571429, 'No': 0.35714285714285715}, 'Normal': {'Yes': 0.6428571428571429, 'No': 0.35714285714285715}}, 'Wind': {'Strong': {'Yes': 0.6428571428571429, 'No': 0.35714285714285715}, 'Weak': {'Yes': 0.6428571428571429, 'No': 0.35714285714285715}}} \n",
      " {'Outlook': {'Sunny': 1.0, 'Overcast': 1.0, 'Rain': 1.0}, 'Temperature': {'Cool': 1.0, 'Mild': 1.0, 'Hot': 1.0}, 'Humidity': {'High': 1.0, 'Normal': 1.0}, 'Wind': {'Strong': 1.0, 'Weak': 1.0}}\n",
      "Yes ==> No\n",
      "Yes ==> No\n",
      "Yes ==> Yes\n",
      "Yes ==> Yes\n",
      "Yes ==> Yes\n",
      "Yes ==> No\n",
      "Yes ==> Yes\n",
      "Yes ==> No\n",
      "Yes ==> Yes\n",
      "Yes ==> Yes\n",
      "Yes ==> Yes\n",
      "Yes ==> Yes\n",
      "Yes ==> Yes\n",
      "Yes ==> No\n",
      "5%\n",
      "35.714285714285715%\n",
      "64.28571428571428%\n"
     ]
    }
   ],
   "source": [
    "df = pd.read_csv('PlayTennis5.csv')\n",
    "concept = str(list(df)[-1])\n",
    "conceptList = set(df[concept])\n",
    "Attr = {}\n",
    "\n",
    "for a in df.columns[:-1]:\n",
    "    Attr[a] = set(df[a])\n",
    "    print(f\"{a} -- > {Attr[a]}\")\n",
    "    \n",
    "conceptProb, AttrConcept, ProbabilityList = train(df,Attr,conceptList,concept)\n",
    "example  = pd.read_csv('PlayTennis5.csv')\n",
    "test(example.values,Attr,conceptList,conceptProb, AttrConcept, ProbabilityList)"
   ]
  },
  {
   "cell_type": "code",
   "execution_count": null,
   "metadata": {},
   "outputs": [],
   "source": []
  }
 ],
 "metadata": {
  "kernelspec": {
   "display_name": "Python 3",
   "language": "python",
   "name": "python3"
  },
  "language_info": {
   "codemirror_mode": {
    "name": "ipython",
    "version": 3
   },
   "file_extension": ".py",
   "mimetype": "text/x-python",
   "name": "python",
   "nbconvert_exporter": "python",
   "pygments_lexer": "ipython3",
   "version": "3.8.3"
  }
 },
 "nbformat": 4,
 "nbformat_minor": 4
}
