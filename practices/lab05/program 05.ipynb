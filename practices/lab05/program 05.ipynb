{
 "cells": [
  {
   "cell_type": "markdown",
   "metadata": {},
   "source": [
    "# 5 Naive Bayes Classifier from Scratch\n",
    "Write a program to implement the naïve Bayesian classifier for a sample training data set stored\n",
    "as a .CSV file. Compute the accuracy of the classifier, considering few test data sets."
   ]
  },
  {
   "cell_type": "code",
   "execution_count": 7,
   "metadata": {},
   "outputs": [],
   "source": [
    "import pandas as pd"
   ]
  },
  {
   "cell_type": "code",
   "execution_count": 8,
   "metadata": {},
   "outputs": [],
   "source": [
    "def probAttr(data, attr, val):\n",
    "    Total = data.shape[0]\n",
    "    cnt = len(data[data[attr] == val])\n",
    "    return cnt, cnt / Total"
   ]
  },
  {
   "cell_type": "code",
   "execution_count": 9,
   "metadata": {},
   "outputs": [],
   "source": [
    "def train(data, Attr, conceptVals, concept):\n",
    "    conceptProbs = {}\n",
    "    countConcept = {}\n",
    "    for cVal in conceptVals:\n",
    "        countConcept[cVal], conceptProbs[cVal] = probAttr(data, concept, cVal)\n",
    "    \n",
    "    AttrConcept = {}\n",
    "    probability_list = {}\n",
    "    for att in Attr:\n",
    "        probability_list[att] = {}\n",
    "        AttrConcept[att] = {}\n",
    "        for val in Attr[att]:\n",
    "            AttrConcept[att][val] = {}\n",
    "            a, probability_list[att][val] = probAttr(data, att, val)\n",
    "            for cVal in conceptVals:\n",
    "                dataTemp = data[data[att] == val]\n",
    "                AttrConcept[att][val][cVal] = len(dataTemp[dataTemp[concept] == cVal]) / countConcept[cVal]\n",
    "    print(f\"P(A) : {conceptProbs}\\n\")\n",
    "    print(f\"P(X/A) : {AttrConcept}\\n\")\n",
    "    print(f\"P(X) : {probability_list}\\n\")\n",
    "    return conceptProbs, AttrConcept, probability_list"
   ]
  },
  {
   "cell_type": "code",
   "execution_count": 10,
   "metadata": {},
   "outputs": [],
   "source": [
    "def test(examples, Attr, concept_list, conceptProbs, AttrConcept,probability_list):\n",
    "    misclassification_count = 0\n",
    "    Total = len(examples)\n",
    "    for ex in examples:\n",
    "        px = {}\n",
    "        for a in Attr:\n",
    "            for x in ex:\n",
    "                for c in concept_list:\n",
    "                    if x in AttrConcept[a]:\n",
    "                        if c not in px:\n",
    "                            px[c] = conceptProbs[c] * AttrConcept[a][x][c] /probability_list[a][x]\n",
    "                        else:\n",
    "                            px[c] = px[c] * AttrConcept[a][x][c] /probability_list[a][x]\n",
    "        print(px)\n",
    "        classification = max(px, key=px.get)\n",
    "        print(f\"Classification : {classification} Expected : {ex[-1]}\")\n",
    "        if (classification != ex[-1]):\n",
    "            misclassification_count += 1\n",
    "    misclassification_rate = misclassification_count * 100 / Total\n",
    "    accuracy = 100 - misclassification_rate\n",
    "    print(f\"Misclassification Count={misclassification_count}\")\n",
    "    print(f\"Misclassification Rate={misclassification_rate}%\")\n",
    "    print(f\"Accuracy={accuracy}%\")"
   ]
  },
  {
   "cell_type": "code",
   "execution_count": 11,
   "metadata": {},
   "outputs": [
    {
     "name": "stdout",
     "output_type": "stream",
     "text": [
      "Outlook: {'Rain', 'Sunny', 'Overcast'}\n",
      "Temperature: {'Cool', 'Hot', 'Mild'}\n",
      "Humidity: {'Normal', 'High'}\n",
      "Wind: {'Strong', 'Weak'}\n",
      "P(A) : {'No': 0.35714285714285715, 'Yes': 0.6428571428571429}\n",
      "\n",
      "P(X/A) : {'Outlook': {'Rain': {'No': 0.4, 'Yes': 0.3333333333333333}, 'Sunny': {'No': 0.6, 'Yes': 0.2222222222222222}, 'Overcast': {'No': 0.0, 'Yes': 0.4444444444444444}}, 'Temperature': {'Cool': {'No': 0.2, 'Yes': 0.3333333333333333}, 'Hot': {'No': 0.4, 'Yes': 0.2222222222222222}, 'Mild': {'No': 0.4, 'Yes': 0.4444444444444444}}, 'Humidity': {'Normal': {'No': 0.2, 'Yes': 0.6666666666666666}, 'High': {'No': 0.8, 'Yes': 0.3333333333333333}}, 'Wind': {'Strong': {'No': 0.6, 'Yes': 0.3333333333333333}, 'Weak': {'No': 0.4, 'Yes': 0.6666666666666666}}}\n",
      "\n",
      "P(X) : {'Outlook': {'Rain': 0.35714285714285715, 'Sunny': 0.35714285714285715, 'Overcast': 0.2857142857142857}, 'Temperature': {'Cool': 0.2857142857142857, 'Hot': 0.2857142857142857, 'Mild': 0.42857142857142855}, 'Humidity': {'Normal': 0.5, 'High': 0.5}, 'Wind': {'Strong': 0.42857142857142855, 'Weak': 0.5714285714285714}}\n",
      "\n",
      "{'No': 0.9408000000000002, 'Yes': 0.2419753086419753}\n",
      "Classification : No Expected : No\n",
      "{'No': 1.8816000000000002, 'Yes': 0.16131687242798354}\n",
      "Classification : No Expected : No\n",
      "{'No': 0.0, 'Yes': 0.6049382716049383}\n",
      "Classification : Yes Expected : Yes\n",
      "{'No': 0.4181333333333335, 'Yes': 0.4839506172839506}\n",
      "Classification : Yes Expected : Yes\n",
      "{'No': 0.07840000000000004, 'Yes': 1.0888888888888888}\n",
      "Classification : Yes Expected : Yes\n",
      "{'No': 0.15680000000000005, 'Yes': 0.7259259259259259}\n",
      "Classification : Yes Expected : No\n",
      "{'No': 0.0, 'Yes': 1.2098765432098766}\n",
      "Classification : Yes Expected : Yes\n",
      "{'No': 0.6272000000000001, 'Yes': 0.3226337448559671}\n",
      "Classification : No Expected : No\n",
      "{'No': 0.11760000000000002, 'Yes': 0.7259259259259256}\n",
      "Classification : Yes Expected : Yes\n",
      "{'No': 0.10453333333333338, 'Yes': 0.9679012345679012}\n",
      "Classification : Yes Expected : Yes\n",
      "{'No': 0.31360000000000005, 'Yes': 0.43017832647462273}\n",
      "Classification : Yes Expected : Yes\n",
      "{'No': 0.0, 'Yes': 0.5377229080932785}\n",
      "Classification : Yes Expected : Yes\n",
      "{'No': 0.0, 'Yes': 1.2098765432098766}\n",
      "Classification : Yes Expected : Yes\n",
      "{'No': 0.8362666666666669, 'Yes': 0.3226337448559671}\n",
      "Classification : No Expected : No\n",
      "Misclassification Count=1\n",
      "Misclassification Rate=7.142857142857143%\n",
      "Accuracy=92.85714285714286%\n"
     ]
    }
   ],
   "source": [
    "\n",
    "df = pd.read_csv('PlayTennis5.csv')\n",
    "concept = str(list(df)[-1])\n",
    "concept_list = set(df[concept])\n",
    "Attr = {}\n",
    "\n",
    "for a in df.columns[:-1]:\n",
    "    Attr[a] = set(df[a])\n",
    "    print(f\"{a}: {Attr[a]}\")\n",
    "    \n",
    "conceptProbs, AttrConcept, probability_list = train(df, Attr, concept_list,concept)\n",
    "examples = pd.read_csv('PlayTennis5.csv')\n",
    "test(examples.values, Attr, concept_list, conceptProbs, AttrConcept,probability_list)"
   ]
  },
  {
   "cell_type": "code",
   "execution_count": null,
   "metadata": {},
   "outputs": [],
   "source": []
  }
 ],
 "metadata": {
  "kernelspec": {
   "display_name": "Python 3",
   "language": "python",
   "name": "python3"
  },
  "language_info": {
   "codemirror_mode": {
    "name": "ipython",
    "version": 3
   },
   "file_extension": ".py",
   "mimetype": "text/x-python",
   "name": "python",
   "nbconvert_exporter": "python",
   "pygments_lexer": "ipython3",
   "version": "3.8.3"
  }
 },
 "nbformat": 4,
 "nbformat_minor": 4
}
