{
 "cells": [
  {
   "cell_type": "code",
   "execution_count": 1,
   "metadata": {},
   "outputs": [],
   "source": [
    "import numpy as np"
   ]
  },
  {
   "cell_type": "code",
   "execution_count": 2,
   "metadata": {},
   "outputs": [],
   "source": [
    "X = np.array(([2,9],[1,5],[3,6]), dtype =float)\n",
    "y = np.array(([92],[86],[89]), dtype =float)\n",
    "\n",
    "X = X /np.amax(X, axis = 0)\n",
    "y = y /100"
   ]
  },
  {
   "cell_type": "code",
   "execution_count": 4,
   "metadata": {},
   "outputs": [],
   "source": [
    "def sigmoid(x):\n",
    "    return 1/(1+(np.exp(-x)))\n"
   ]
  },
  {
   "cell_type": "code",
   "execution_count": 5,
   "metadata": {},
   "outputs": [],
   "source": [
    "def derivative(x):\n",
    "    return x*(1-x)"
   ]
  },
  {
   "cell_type": "code",
   "execution_count": 6,
   "metadata": {},
   "outputs": [],
   "source": [
    "epoch = 1000\n",
    "lr = 0.6\n",
    "inputlayer_neurons = 2\n",
    "hiddenlayer_neurons = 3\n",
    "outputlayer_neurons = 1"
   ]
  },
  {
   "cell_type": "code",
   "execution_count": 8,
   "metadata": {},
   "outputs": [],
   "source": [
    "wh = np.random.uniform(size= (inputlayer_neurons , hiddenlayer_neurons ))\n",
    "\n",
    "bh = np.random.uniform(size= (1 , hiddenlayer_neurons ))\n",
    "\n",
    "wo = np.random.uniform(size= (hiddenlayer_neurons , outputlayer_neurons ))\n",
    "\n",
    "bo = np.random.uniform(size= (1 , outputlayer_neurons ))"
   ]
  },
  {
   "cell_type": "code",
   "execution_count": 9,
   "metadata": {},
   "outputs": [],
   "source": [
    "for i in range(epoch):\n",
    "    net_h = np.dot(X, wh) + bh\n",
    "    sig_h = sigmoid(net_h)\n",
    "    net_o = np.dot(sig_h, wo) + bo\n",
    "    output = sigmoid(net_o)\n",
    "    \n",
    "    \n",
    "    deltak = (y - output) * derivative(output)\n",
    "    deltah = deltak.dot(wo.T)* derivative(sig_h)\n",
    "    \n",
    "    \n",
    "    wo = wo + sig_h.T.dot(deltak) *lr\n",
    "    wh = wh + X.T.dot(deltah) *lr"
   ]
  },
  {
   "cell_type": "code",
   "execution_count": 10,
   "metadata": {},
   "outputs": [
    {
     "name": "stdout",
     "output_type": "stream",
     "text": [
      "[[0.66666667 1.        ]\n",
      " [0.33333333 0.55555556]\n",
      " [1.         0.66666667]]\n",
      "[[0.92]\n",
      " [0.86]\n",
      " [0.89]]\n",
      "[[0.89641603]\n",
      " [0.87608796]\n",
      " [0.8966763 ]]\n"
     ]
    }
   ],
   "source": [
    "print(X)\n",
    "print(y)\n",
    "print(output)"
   ]
  },
  {
   "cell_type": "code",
   "execution_count": null,
   "metadata": {},
   "outputs": [],
   "source": []
  }
 ],
 "metadata": {
  "kernelspec": {
   "display_name": "Python 3",
   "language": "python",
   "name": "python3"
  },
  "language_info": {
   "codemirror_mode": {
    "name": "ipython",
    "version": 3
   },
   "file_extension": ".py",
   "mimetype": "text/x-python",
   "name": "python",
   "nbconvert_exporter": "python",
   "pygments_lexer": "ipython3",
   "version": "3.8.3"
  }
 },
 "nbformat": 4,
 "nbformat_minor": 4
}
