{
 "cells": [
  {
   "cell_type": "code",
   "execution_count": 14,
   "metadata": {},
   "outputs": [],
   "source": [
    "import numpy as np"
   ]
  },
  {
   "cell_type": "code",
   "execution_count": 15,
   "metadata": {},
   "outputs": [],
   "source": [
    "X = np.array(([2,9],[1,5],[3,6]), dtype=float)\n",
    "y = np.array(([92],[86],[89]), dtype=float)\n",
    "X = X/np.amax(X, axis = 0)\n",
    "y =y/100"
   ]
  },
  {
   "cell_type": "code",
   "execution_count": 21,
   "metadata": {},
   "outputs": [],
   "source": [
    "def sigmoid(x):\n",
    "    return (1/(1+np.exp(-x)))\n",
    "\n"
   ]
  },
  {
   "cell_type": "code",
   "execution_count": 22,
   "metadata": {},
   "outputs": [],
   "source": [
    "def derivative(x):\n",
    "    return x*(1-x)"
   ]
  },
  {
   "cell_type": "code",
   "execution_count": 23,
   "metadata": {},
   "outputs": [],
   "source": [
    "epoch  = 1000\n",
    "inputlayer_neuron = 2\n",
    "hiddenlayer_neuron =3\n",
    "outputlayer_neuron = 1\n",
    "lr = 0.6\n"
   ]
  },
  {
   "cell_type": "code",
   "execution_count": 24,
   "metadata": {},
   "outputs": [],
   "source": [
    "wh = np.random.uniform(size = (inputlayer_neuron, hiddenlayer_neuron))\n",
    "\n",
    "bh = np.random.uniform(size = (1, hiddenlayer_neuron))\n",
    "\n",
    "wo = np.random.uniform(size = (hiddenlayer_neuron, outputlayer_neuron))\n",
    "\n",
    "bo = np.random.uniform(size = (1, outputlayer_neuron))"
   ]
  },
  {
   "cell_type": "code",
   "execution_count": 25,
   "metadata": {},
   "outputs": [
    {
     "name": "stdout",
     "output_type": "stream",
     "text": [
      "[[0.66666667 1.        ]\n",
      " [0.33333333 0.55555556]\n",
      " [1.         0.66666667]]\n",
      "[[0.92]\n",
      " [0.86]\n",
      " [0.89]]\n",
      "[[0.89771321]\n",
      " [0.87763802]\n",
      " [0.89388616]]\n"
     ]
    }
   ],
   "source": [
    "for i in range(epoch):\n",
    "    net_h = np.dot(X, wh) + bh\n",
    "    sig_h = sigmoid(net_h)\n",
    "    net_o = np.dot(sig_h, wo) + bo\n",
    "    output = sigmoid(net_o)\n",
    "    \n",
    "    \n",
    "    deltak = (y-output) * derivative(output)\n",
    "    deltah = deltak.dot(wo.T) * derivative(sig_h)\n",
    "    \n",
    "    \n",
    "    wo = wo + sig_h.T.dot(deltak)*lr\n",
    "    wh = wh + X.T.dot(deltah)*lr\n",
    "\n",
    "    \n",
    "print(X)\n",
    "print(y)\n",
    "print(output)   "
   ]
  },
  {
   "cell_type": "code",
   "execution_count": null,
   "metadata": {},
   "outputs": [],
   "source": []
  },
  {
   "cell_type": "code",
   "execution_count": null,
   "metadata": {},
   "outputs": [],
   "source": []
  }
 ],
 "metadata": {
  "kernelspec": {
   "display_name": "Python 3",
   "language": "python",
   "name": "python3"
  },
  "language_info": {
   "codemirror_mode": {
    "name": "ipython",
    "version": 3
   },
   "file_extension": ".py",
   "mimetype": "text/x-python",
   "name": "python",
   "nbconvert_exporter": "python",
   "pygments_lexer": "ipython3",
   "version": "3.8.3"
  }
 },
 "nbformat": 4,
 "nbformat_minor": 4
}
