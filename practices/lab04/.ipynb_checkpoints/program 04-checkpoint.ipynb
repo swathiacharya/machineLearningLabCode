{
 "cells": [
  {
   "cell_type": "markdown",
   "metadata": {},
   "source": [
    "## 4. Build an Artificial Neural Network by implementing the Back propagation Algorithm and test the same using appropriate data sets."
   ]
  },
  {
   "attachments": {
    "image.png": {
     "image/png": "[encoded data removed]"
    }
   },
   "cell_type": "markdown",
   "metadata": {},
   "source": [
    "## Back propagation Algorithm:\n",
    "    1.Load data set\n",
    "    2. Assign all network inputs and output\n",
    "    3.Initialize all weights with small random numbers, typically between -1 and 1\n",
    "    repeat\n",
    "      for every pattern in the training set\n",
    "        Present the pattern to the network\n",
    "    // Propagated the input forward through the network:\n",
    "    for each layer in the network\n",
    "        for every node in the layer\n",
    "            1. Calculate the weight sum of the inputs to the node\n",
    "            2. Add the threshold to the sum\n",
    "            3. Calculate the activation for the node\n",
    "        end\n",
    "    end\n",
    "    \n",
    "    // Propagate the errors backward through the network\n",
    "    for every node in the output layer\n",
    "        calculate the error signal\n",
    "    end\n",
    "    \n",
    "    for all hidden layers\n",
    "        for every node in the layer\n",
    "            1. Calculate the node's signal error\n",
    "            2. Update each node's weight in the network\n",
    "        end\n",
    "    end\n",
    "\n",
    "    //Calculate Global Error\n",
    "    Calculate the Error Function\n",
    "  end\n",
    "  \n",
    "  \n",
    "while ((maximum number of iterations < than specified) AND\n",
    "(Error Function is > than specified))\n",
    "\n",
    "\n",
    "\n",
    "\n",
    "\n",
    "![image.png](attachment:image.png)\n",
    "\n",
    "Input layer with two inputs neurons\n",
    "One hidden layer with two neurons\n",
    "Output layer with a single neuron"
   ]
  },
  {
   "cell_type": "code",
   "execution_count": 1,
   "metadata": {},
   "outputs": [],
   "source": [
    "import numpy as np"
   ]
  },
  {
   "cell_type": "code",
   "execution_count": 2,
   "metadata": {},
   "outputs": [],
   "source": [
    "X = np.array(([2, 9], [1, 5], [3, 6]), dtype=float)\n",
    "y = np.array(([92], [86], [89]), dtype=float)\n",
    "X = X / np.amax(X, axis=0)\n",
    "y = y / 100"
   ]
  },
  {
   "cell_type": "code",
   "execution_count": 3,
   "metadata": {},
   "outputs": [],
   "source": [
    "#Sigmoid Function\n",
    "def sigmoid (x):\n",
    "    return (1/(1 + np.exp(-x)))\n",
    "    "
   ]
  },
  {
   "cell_type": "code",
   "execution_count": 4,
   "metadata": {},
   "outputs": [],
   "source": [
    "#Derivative of Sigmoid Function\n",
    "def derivatives_sigmoid(x):\n",
    "    return x * (1 - x)"
   ]
  },
  {
   "cell_type": "code",
   "execution_count": 5,
   "metadata": {},
   "outputs": [],
   "source": [
    "#Variable initialization\n",
    "\n",
    "\n",
    "#Setting training iterations\n",
    "#Setting learning rate\n",
    "#number of features in data set\n",
    "#number of hidden layers neurons\n",
    "#number of neurons at output layer\n",
    "\n",
    "\n",
    "epoch = 1000\n",
    "learning_rate = 0.6\n",
    "inputlayer_neurons = 2\n",
    "hiddenlayer_neurons = 3\n",
    "output_neurons = 1"
   ]
  },
  {
   "cell_type": "code",
   "execution_count": 6,
   "metadata": {},
   "outputs": [],
   "source": [
    "wh = np.random.uniform(size=(inputlayer_neurons, hiddenlayer_neurons))\n",
    "\n",
    "bh = np.random.uniform(size=(1, hiddenlayer_neurons))\n",
    "\n",
    "wo = np.random.uniform(size=(hiddenlayer_neurons, output_neurons))\n",
    "\n",
    "bo = np.random.uniform(size=(1, output_neurons))"
   ]
  },
  {
   "cell_type": "code",
   "execution_count": 7,
   "metadata": {},
   "outputs": [],
   "source": [
    "for i in range(epoch):\n",
    "    #Forward Propogation\n",
    "    net_h = np.dot(X, wh) + bh\n",
    "    sigma_h = sigmoid(net_h)\n",
    "    net_o = np.dot(sigma_h, wo) + bo\n",
    "    output = sigmoid(net_o)\n",
    "    \n",
    "    #Backpropagation\n",
    "    deltaK = (y - output) * derivatives_sigmoid(output)\n",
    "    deltaH = deltaK.dot(wo.T) * derivatives_sigmoid(sigma_h)\n",
    "    wo = wo + sigma_h.T.dot(deltaK) * learning_rate\n",
    "    wh = wh + X.T.dot(deltaH) * learning_rate"
   ]
  },
  {
   "cell_type": "code",
   "execution_count": 8,
   "metadata": {},
   "outputs": [
    {
     "name": "stdout",
     "output_type": "stream",
     "text": [
      "Input: \n",
      " [[0.66666667 1.        ]\n",
      " [0.33333333 0.55555556]\n",
      " [1.         0.66666667]]\n",
      "Actual Output: \n",
      "[[0.92]\n",
      " [0.86]\n",
      " [0.89]]\n",
      "Predicted Output: \n",
      "[[0.8964939 ]\n",
      " [0.87767061]\n",
      " [0.89494612]]\n"
     ]
    }
   ],
   "source": [
    "print(f\"Input: \\n {X}\")\n",
    "print(f\"Actual Output: \\n{y}\")\n",
    "print(f\"Predicted Output: \\n{output}\")"
   ]
  },
  {
   "cell_type": "markdown",
   "metadata": {},
   "source": []
  },
  {
   "cell_type": "code",
   "execution_count": null,
   "metadata": {},
   "outputs": [],
   "source": []
  }
 ],
 "metadata": {
  "kernelspec": {
   "display_name": "Python 3",
   "language": "python",
   "name": "python3"
  },
  "language_info": {
   "codemirror_mode": {
    "name": "ipython",
    "version": 3
   },
   "file_extension": ".py",
   "mimetype": "text/x-python",
   "name": "python",
   "nbconvert_exporter": "python",
   "pygments_lexer": "ipython3",
   "version": "3.8.3"
  }
 },
 "nbformat": 4,
 "nbformat_minor": 4
}
